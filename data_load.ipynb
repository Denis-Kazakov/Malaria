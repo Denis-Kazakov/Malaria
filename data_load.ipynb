{
 "cells": [
  {
   "cell_type": "code",
   "execution_count": 1,
   "id": "4196cec5",
   "metadata": {},
   "outputs": [],
   "source": [
    "import matplotlib.pyplot as plt\n",
    "import numpy as np\n",
    "import tensorflow as tf\n",
    "\n",
    "import tensorflow_datasets as tfds\n"
   ]
  },
  {
   "cell_type": "code",
   "execution_count": 2,
   "id": "e3ed6db5",
   "metadata": {},
   "outputs": [
    {
     "name": "stdout",
     "output_type": "stream",
     "text": [
      "((<PrefetchDataset element_spec=(TensorSpec(shape=(None, None, None, 3), dtype=tf.uint8, name=None), TensorSpec(shape=(None,), dtype=tf.int64, name=None))>, <PrefetchDataset element_spec=(TensorSpec(shape=(None, None, None, 3), dtype=tf.uint8, name=None), TensorSpec(shape=(None,), dtype=tf.int64, name=None))>, <PrefetchDataset element_spec=(TensorSpec(shape=(None, None, None, 3), dtype=tf.uint8, name=None), TensorSpec(shape=(None,), dtype=tf.int64, name=None))>), tfds.core.DatasetInfo(\n",
      "    name='malaria',\n",
      "    full_name='malaria/1.0.0',\n",
      "    description=\"\"\"\n",
      "    The Malaria dataset contains a total of 27,558 cell images with equal instances\n",
      "    of parasitized and uninfected cells from the thin blood smear slide images of\n",
      "    segmented cells.\n",
      "    \"\"\",\n",
      "    homepage='https://lhncbc.nlm.nih.gov/publication/pub9932',\n",
      "    data_path='./data/malaria/1.0.0',\n",
      "    file_format=tfrecord,\n",
      "    download_size=337.08 MiB,\n",
      "    dataset_size=317.62 MiB,\n",
      "    features=FeaturesDict({\n",
      "        'image': Image(shape=(None, None, 3), dtype=uint8),\n",
      "        'label': ClassLabel(shape=(), dtype=int64, num_classes=2),\n",
      "    }),\n",
      "    supervised_keys=('image', 'label'),\n",
      "    disable_shuffling=False,\n",
      "    splits={\n",
      "        'train': <SplitInfo num_examples=27558, num_shards=4>,\n",
      "    },\n",
      "    citation=\"\"\"@article{rajaraman2018pre,\n",
      "      title={Pre-trained convolutional neural networks as feature extractors toward\n",
      "      improved malaria parasite detection in thin blood smear images},\n",
      "      author={Rajaraman, Sivaramakrishnan and Antani, Sameer K and Poostchi, Mahdieh\n",
      "      and Silamut, Kamolrat and Hossain, Md A and Maude, Richard J and Jaeger,\n",
      "      Stefan and Thoma, George R},\n",
      "      journal={PeerJ},\n",
      "      volume={6},\n",
      "      pages={e4568},\n",
      "      year={2018},\n",
      "      publisher={PeerJ Inc.}\n",
      "    }\"\"\",\n",
      "))\n"
     ]
    }
   ],
   "source": [
    "ds = tfds.load('malaria', \n",
    "               split=('train[:60%]', 'train[60%:80%]', 'train[80%:]'), \n",
    "               shuffle_files=True,\n",
    "              data_dir='./data',\n",
    "               batch_size=32,\n",
    "              download=True,\n",
    "              as_supervised=True,\n",
    "              with_info=True)\n",
    "print(ds)"
   ]
  },
  {
   "cell_type": "code",
   "execution_count": 3,
   "id": "4a0c969f",
   "metadata": {},
   "outputs": [
    {
     "name": "stdout",
     "output_type": "stream",
     "text": [
      "(32, 166, 184, 3) tf.Tensor([1 1 0 1 1 1 0 1 0 0 1 0 0 1 1 0 0 0 0 1 0 0 0 0 0 1 1 1 0 1 0 0], shape=(32,), dtype=int64)\n",
      "(32, 172, 181, 3) tf.Tensor([1 0 1 1 1 0 1 1 0 0 1 1 1 1 0 0 1 1 0 0 1 1 1 1 1 0 0 1 1 1 1 1], shape=(32,), dtype=int64)\n"
     ]
    }
   ],
   "source": [
    "for image, label in ds[0][0].take(2):\n",
    "    print(image.shape, label)"
   ]
  },
  {
   "cell_type": "code",
   "execution_count": 4,
   "id": "d3556731",
   "metadata": {},
   "outputs": [
    {
     "data": {
      "text/plain": [
       "173"
      ]
     },
     "execution_count": 4,
     "metadata": {},
     "output_type": "execute_result"
    }
   ],
   "source": [
    "len(ds[0][2])"
   ]
  }
 ],
 "metadata": {
  "kernelspec": {
   "display_name": "Python 3 (ipykernel)",
   "language": "python",
   "name": "python3"
  },
  "language_info": {
   "codemirror_mode": {
    "name": "ipython",
    "version": 3
   },
   "file_extension": ".py",
   "mimetype": "text/x-python",
   "name": "python",
   "nbconvert_exporter": "python",
   "pygments_lexer": "ipython3",
   "version": "3.10.9"
  }
 },
 "nbformat": 4,
 "nbformat_minor": 5
}
