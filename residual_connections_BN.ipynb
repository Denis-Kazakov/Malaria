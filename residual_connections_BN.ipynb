{
  "cells": [
    {
      "cell_type": "markdown",
      "source": [
        "# Model with residual connections and batch normalization"
      ],
      "metadata": {
        "id": "idmr1W3q5ahU"
      },
      "id": "idmr1W3q5ahU"
    },
    {
      "cell_type": "code",
      "execution_count": null,
      "id": "1f431690",
      "metadata": {
        "scrolled": true,
        "id": "1f431690"
      },
      "outputs": [],
      "source": [
        "import tensorflow as tf\n",
        "from tensorflow import keras\n",
        "import tensorflow_datasets as tfds\n",
        "import pandas as pd"
      ]
    },
    {
      "cell_type": "code",
      "execution_count": null,
      "id": "35511d2e",
      "metadata": {
        "colab": {
          "base_uri": "https://localhost:8080/"
        },
        "id": "35511d2e",
        "outputId": "7c095dc2-d5e3-42a4-b57e-9d498dda7d8c"
      },
      "outputs": [
        {
          "output_type": "stream",
          "name": "stdout",
          "text": [
            "Mounted at /content/gdrive\n"
          ]
        }
      ],
      "source": [
        "from google.colab import drive\n",
        "drive.mount('/content/gdrive')"
      ]
    },
    {
      "cell_type": "markdown",
      "id": "9e4d7998",
      "metadata": {
        "id": "9e4d7998"
      },
      "source": [
        "Loading train, validation and test sets"
      ]
    },
    {
      "cell_type": "code",
      "execution_count": null,
      "metadata": {
        "id": "4R0gNgH6HPRL"
      },
      "outputs": [],
      "source": [
        "ds = tfds.load('malaria', \n",
        "               split=('train[:60%]', 'train[60%:80%]'), \n",
        "               shuffle_files=False,\n",
        "              data_dir='/content/gdrive/MyDrive/datasets/Malaria',\n",
        "               batch_size=32,\n",
        "              download=True,\n",
        "              as_supervised=True,\n",
        "              with_info=False)"
      ],
      "id": "4R0gNgH6HPRL"
    },
    {
      "cell_type": "markdown",
      "source": [
        "# Model building"
      ],
      "metadata": {
        "id": "ep3vZn0KcBJp"
      },
      "id": "ep3vZn0KcBJp"
    },
    {
      "cell_type": "code",
      "source": [
        "callbacks = [\n",
        "    keras.callbacks.EarlyStopping(\n",
        "        monitor=\"val_accuracy\",\n",
        "        min_delta=0,\n",
        "        patience=5,\n",
        "        verbose=1,\n",
        "        mode=\"max\",\n",
        "        baseline=None,\n",
        "        restore_best_weights=True)\n",
        "    ]"
      ],
      "metadata": {
        "id": "XjE5fu1IKGlc"
      },
      "id": "XjE5fu1IKGlc",
      "execution_count": null,
      "outputs": []
    },
    {
      "cell_type": "code",
      "execution_count": null,
      "metadata": {
        "id": "L4VUYwMSDWYf"
      },
      "outputs": [],
      "source": [
        "def build_model(init_filters, kernel_size, num_resid):\n",
        "    '''I keep the number of filters the same in all layers in this version'''\n",
        "    inputs = keras.Input(shape=(None, None, 3))\n",
        "    x = keras.layers.Rescaling(scale=1.0 / 255)(inputs)\n",
        "    x = keras.layers.Conv2D(\n",
        "      filters=init_filters,\n",
        "      kernel_size=kernel_size,\n",
        "      strides=(1, 1),\n",
        "      padding=\"same\")(x)\n",
        "    x = keras.layers.BatchNormalization()(x)\n",
        "    x = keras.layers.Activation(\"relu\")(x)\n",
        "    x = keras.layers.MaxPooling2D(\n",
        "        pool_size=(2, 2), \n",
        "        strides=None, \n",
        "        padding=\"same\")(x)\n",
        "    prev_block_output = x\n",
        "    for i in range(1, num_resid + 1):\n",
        "        # i is the number of blocks with residual connections\n",
        "      x = keras.layers.Conv2D(\n",
        "          filters=init_filters,\n",
        "          kernel_size=kernel_size,\n",
        "          strides=(1, 1),\n",
        "          padding=\"same\")(x)\n",
        "      x = keras.layers.BatchNormalization()(x)\n",
        "      x = keras.layers.Activation(\"relu\")(x)\n",
        "      x = keras.layers.Conv2D(\n",
        "          filters=init_filters,\n",
        "          kernel_size=kernel_size,\n",
        "          strides=(1, 1),\n",
        "          padding=\"same\")(x)\n",
        "      x = keras.layers.BatchNormalization()(x)\n",
        "      x = keras.layers.Activation(\"relu\")(x)\n",
        "      x = keras.layers.add([x, prev_block_output])\n",
        "      prev_block_output = x\n",
        "    x = keras.layers.Conv2D(\n",
        "        filters=init_filters,\n",
        "        kernel_size=kernel_size,\n",
        "        strides=(1, 1),\n",
        "        padding=\"same\")(prev_block_output)\n",
        "    x = keras.layers.BatchNormalization()(x)\n",
        "    x = keras.layers.Activation(\"relu\")(x)\n",
        "    x = keras.layers.GlobalMaxPooling2D()(x)\n",
        "    x = keras.layers.Flatten()(x)\n",
        "    x = keras.layers.Dense(units=init_filters,\n",
        "                            activation=\"relu\",\n",
        "                          kernel_regularizer=None)(x)\n",
        "    x = keras.layers.Dropout(0.2)(x)\n",
        "    outputs = keras.layers.Dense(1, activation=\"sigmoid\")(x)\n",
        "    model = keras.Model(inputs=inputs, outputs=outputs)\n",
        "    model.compile(optimizer='Adam',\n",
        "         loss='binary_crossentropy',\n",
        "         metrics=['accuracy'])    \n",
        "    return model"
      ],
      "id": "L4VUYwMSDWYf"
    },
    {
      "cell_type": "code",
      "source": [
        "model = build_model(64, 4, 6)"
      ],
      "metadata": {
        "id": "quESPUJr6Pnj"
      },
      "execution_count": null,
      "outputs": [],
      "id": "quESPUJr6Pnj"
    },
    {
      "cell_type": "code",
      "source": [
        "history = model.fit(\n",
        "    ds[0],\n",
        "    epochs=50,\n",
        "    verbose=\"auto\",\n",
        "    callbacks=callbacks,\n",
        "    validation_data=ds[1]\n",
        ")"
      ],
      "metadata": {
        "colab": {
          "base_uri": "https://localhost:8080/"
        },
        "outputId": "b3b32d18-c3fd-4f8e-9f37-065cead2efa0",
        "id": "SAMRXkLp6Pnl"
      },
      "execution_count": null,
      "outputs": [
        {
          "output_type": "stream",
          "name": "stdout",
          "text": [
            "Epoch 1/50\n",
            "517/517 [==============================] - 465s 873ms/step - loss: 0.2136 - accuracy: 0.9348 - val_loss: 0.2066 - val_accuracy: 0.9316\n",
            "Epoch 2/50\n",
            "517/517 [==============================] - 242s 469ms/step - loss: 0.1481 - accuracy: 0.9561 - val_loss: 0.1560 - val_accuracy: 0.9599\n",
            "Epoch 3/50\n",
            "517/517 [==============================] - 243s 469ms/step - loss: 0.1453 - accuracy: 0.9562 - val_loss: 0.1558 - val_accuracy: 0.9588\n",
            "Epoch 4/50\n",
            "517/517 [==============================] - 242s 469ms/step - loss: 0.1421 - accuracy: 0.9574 - val_loss: 0.1302 - val_accuracy: 0.9574\n",
            "Epoch 5/50\n",
            "517/517 [==============================] - 243s 469ms/step - loss: 0.1383 - accuracy: 0.9583 - val_loss: 0.1290 - val_accuracy: 0.9632\n",
            "Epoch 6/50\n",
            "517/517 [==============================] - 242s 468ms/step - loss: 0.1355 - accuracy: 0.9583 - val_loss: 0.1409 - val_accuracy: 0.9559\n",
            "Epoch 7/50\n",
            "517/517 [==============================] - 243s 469ms/step - loss: 0.1316 - accuracy: 0.9587 - val_loss: 0.1486 - val_accuracy: 0.9537\n",
            "Epoch 8/50\n",
            "517/517 [==============================] - 242s 469ms/step - loss: 0.1308 - accuracy: 0.9591 - val_loss: 0.2197 - val_accuracy: 0.9176\n",
            "Epoch 9/50\n",
            "517/517 [==============================] - 242s 469ms/step - loss: 0.1295 - accuracy: 0.9589 - val_loss: 0.2006 - val_accuracy: 0.9378\n",
            "Epoch 10/50\n",
            "517/517 [==============================] - ETA: 0s - loss: 0.1261 - accuracy: 0.9601Restoring model weights from the end of the best epoch: 5.\n",
            "517/517 [==============================] - 242s 468ms/step - loss: 0.1261 - accuracy: 0.9601 - val_loss: 0.1685 - val_accuracy: 0.9519\n",
            "Epoch 10: early stopping\n"
          ]
        }
      ],
      "id": "SAMRXkLp6Pnl"
    },
    {
      "cell_type": "code",
      "source": [
        "pd.DataFrame({'accuracy': history.history['accuracy'][3:],\n",
        "              'val_accuracy': history.history['val_accuracy'][3:]}).plot.line();"
      ],
      "metadata": {
        "colab": {
          "base_uri": "https://localhost:8080/",
          "height": 265
        },
        "outputId": "9410ea40-29bd-4865-a4c5-6d298a7f7d28",
        "id": "9eJKqTLb6Pnm"
      },
      "execution_count": null,
      "outputs": [
        {
          "output_type": "display_data",
          "data": {
            "text/plain": [
              "<Figure size 432x288 with 1 Axes>"
            ],
            "image/png": "[encoded data removed]"
          },
          "metadata": {
            "needs_background": "light"
          }
        }
      ],
      "id": "9eJKqTLb6Pnm"
    },
    {
      "cell_type": "code",
      "source": [
        "max(history.history['val_accuracy'])"
      ],
      "metadata": {
        "colab": {
          "base_uri": "https://localhost:8080/"
        },
        "outputId": "b197f8bb-94b0-406c-b317-a241362908f9",
        "id": "ALOTAlYM6Pnm"
      },
      "execution_count": null,
      "outputs": [
        {
          "output_type": "execute_result",
          "data": {
            "text/plain": [
              "0.9631645679473877"
            ]
          },
          "metadata": {},
          "execution_count": 13
        }
      ],
      "id": "ALOTAlYM6Pnm"
    },
    {
      "cell_type": "code",
      "source": [
        "model_2 = build_model(16, 3, 6)"
      ],
      "metadata": {
        "id": "hSCIr6hWbqlD"
      },
      "execution_count": null,
      "outputs": [],
      "id": "hSCIr6hWbqlD"
    },
    {
      "cell_type": "code",
      "source": [
        "history_2 = model_2.fit(\n",
        "    ds[0],\n",
        "    epochs=50,\n",
        "    verbose=\"auto\",\n",
        "    callbacks=callbacks,\n",
        "    validation_data=ds[1]\n",
        ")"
      ],
      "metadata": {
        "colab": {
          "base_uri": "https://localhost:8080/"
        },
        "outputId": "efa785b2-fff1-4945-b589-5b3397135584",
        "id": "2cGXeEhDbqlE"
      },
      "execution_count": null,
      "outputs": [
        {
          "output_type": "stream",
          "name": "stdout",
          "text": [
            "Epoch 1/50\n",
            "517/517 [==============================] - 113s 214ms/step - loss: 0.2853 - accuracy: 0.8815 - val_loss: 0.2814 - val_accuracy: 0.8993\n",
            "Epoch 2/50\n",
            "517/517 [==============================] - 46s 89ms/step - loss: 0.1530 - accuracy: 0.9554 - val_loss: 0.1299 - val_accuracy: 0.9581\n",
            "Epoch 3/50\n",
            "517/517 [==============================] - 46s 89ms/step - loss: 0.1478 - accuracy: 0.9545 - val_loss: 0.3432 - val_accuracy: 0.8980\n",
            "Epoch 4/50\n",
            "517/517 [==============================] - 45s 88ms/step - loss: 0.1419 - accuracy: 0.9568 - val_loss: 0.1816 - val_accuracy: 0.9463\n",
            "Epoch 5/50\n",
            "517/517 [==============================] - 45s 88ms/step - loss: 0.1376 - accuracy: 0.9586 - val_loss: 0.2012 - val_accuracy: 0.9356\n",
            "Epoch 6/50\n",
            "517/517 [==============================] - 47s 90ms/step - loss: 0.1354 - accuracy: 0.9583 - val_loss: 0.1289 - val_accuracy: 0.9606\n",
            "Epoch 7/50\n",
            "517/517 [==============================] - 46s 90ms/step - loss: 0.1331 - accuracy: 0.9593 - val_loss: 0.1428 - val_accuracy: 0.9566\n",
            "Epoch 8/50\n",
            "517/517 [==============================] - 48s 93ms/step - loss: 0.1314 - accuracy: 0.9598 - val_loss: 0.1176 - val_accuracy: 0.9624\n",
            "Epoch 9/50\n",
            "517/517 [==============================] - 46s 90ms/step - loss: 0.1303 - accuracy: 0.9599 - val_loss: 0.1697 - val_accuracy: 0.9525\n",
            "Epoch 10/50\n",
            "517/517 [==============================] - 48s 92ms/step - loss: 0.1285 - accuracy: 0.9595 - val_loss: 0.1802 - val_accuracy: 0.9472\n",
            "Epoch 11/50\n",
            "517/517 [==============================] - 47s 90ms/step - loss: 0.1278 - accuracy: 0.9597 - val_loss: 0.1272 - val_accuracy: 0.9604\n",
            "Epoch 12/50\n",
            "517/517 [==============================] - 48s 93ms/step - loss: 0.1260 - accuracy: 0.9600 - val_loss: 0.1397 - val_accuracy: 0.9588\n",
            "Epoch 13/50\n",
            "516/517 [============================>.] - ETA: 0s - loss: 0.1244 - accuracy: 0.9613Restoring model weights from the end of the best epoch: 8.\n",
            "517/517 [==============================] - 46s 90ms/step - loss: 0.1243 - accuracy: 0.9614 - val_loss: 0.2079 - val_accuracy: 0.9383\n",
            "Epoch 13: early stopping\n"
          ]
        }
      ],
      "id": "2cGXeEhDbqlE"
    },
    {
      "cell_type": "code",
      "source": [],
      "metadata": {
        "id": "2kZWuNKU9mNJ"
      },
      "id": "2kZWuNKU9mNJ",
      "execution_count": null,
      "outputs": []
    },
    {
      "cell_type": "code",
      "source": [
        "pd.DataFrame({'accuracy': history_2.history['accuracy'][3:],\n",
        "              'val_accuracy': history_2.history['val_accuracy'][3:]}).plot.line();"
      ],
      "metadata": {
        "colab": {
          "base_uri": "https://localhost:8080/",
          "height": 265
        },
        "outputId": "8c3014b0-d005-4a9c-b456-0b6baede83ee",
        "id": "kdNj3KxxbqlE"
      },
      "execution_count": null,
      "outputs": [
        {
          "output_type": "display_data",
          "data": {
            "text/plain": [
              "<Figure size 432x288 with 1 Axes>"
            ],
            "image/png": "[encoded data removed]"
          },
          "metadata": {
            "needs_background": "light"
          }
        }
      ],
      "id": "kdNj3KxxbqlE"
    },
    {
      "cell_type": "code",
      "source": [
        "max(history_2.history['val_accuracy'])"
      ],
      "metadata": {
        "colab": {
          "base_uri": "https://localhost:8080/"
        },
        "outputId": "67027b34-eca2-4e4f-f2e7-5dffd21d1f03",
        "id": "wIgZD4anbqlF"
      },
      "execution_count": null,
      "outputs": [
        {
          "output_type": "execute_result",
          "data": {
            "text/plain": [
              "0.9624387621879578"
            ]
          },
          "metadata": {},
          "execution_count": 17
        }
      ],
      "id": "wIgZD4anbqlF"
    },
    {
      "cell_type": "markdown",
      "source": [
        "Validation accuracy of the 1st model resumed growth before ealry stopping. Can it improve further?"
      ],
      "metadata": {
        "id": "50qFc-JULIZi"
      },
      "id": "50qFc-JULIZi"
    },
    {
      "cell_type": "code",
      "source": [
        "history = model.fit(\n",
        "    ds[0],\n",
        "    epochs=50,\n",
        "    verbose=\"auto\",\n",
        "    callbacks=callbacks,\n",
        "    validation_data=ds[1]\n",
        ")"
      ],
      "metadata": {
        "colab": {
          "base_uri": "https://localhost:8080/"
        },
        "outputId": "044bd53a-c3cd-4584-f3d6-ad0e99b12b9e",
        "id": "ced6RWMjLaMY"
      },
      "execution_count": null,
      "outputs": [
        {
          "output_type": "stream",
          "name": "stdout",
          "text": [
            "Epoch 1/50\n",
            "517/517 [==============================] - 243s 469ms/step - loss: 0.1461 - accuracy: 0.9562 - val_loss: 0.1666 - val_accuracy: 0.9510\n",
            "Epoch 2/50\n",
            "517/517 [==============================] - 242s 469ms/step - loss: 0.1372 - accuracy: 0.9584 - val_loss: 0.1319 - val_accuracy: 0.9590\n",
            "Epoch 3/50\n",
            "517/517 [==============================] - 242s 469ms/step - loss: 0.1337 - accuracy: 0.9586 - val_loss: 0.2398 - val_accuracy: 0.9193\n",
            "Epoch 4/50\n",
            "517/517 [==============================] - 242s 469ms/step - loss: 0.1299 - accuracy: 0.9593 - val_loss: 0.2004 - val_accuracy: 0.9378\n",
            "Epoch 5/50\n",
            "517/517 [==============================] - 242s 468ms/step - loss: 0.1270 - accuracy: 0.9590 - val_loss: 0.1664 - val_accuracy: 0.9508\n",
            "Epoch 6/50\n",
            "517/517 [==============================] - 242s 468ms/step - loss: 0.1238 - accuracy: 0.9600 - val_loss: 0.1507 - val_accuracy: 0.9595\n",
            "Epoch 7/50\n",
            "517/517 [==============================] - 242s 468ms/step - loss: 0.1231 - accuracy: 0.9618 - val_loss: 0.1926 - val_accuracy: 0.9430\n",
            "Epoch 8/50\n",
            "517/517 [==============================] - 242s 468ms/step - loss: 0.1215 - accuracy: 0.9620 - val_loss: 0.1594 - val_accuracy: 0.9550\n",
            "Epoch 9/50\n",
            "517/517 [==============================] - 242s 468ms/step - loss: 0.1193 - accuracy: 0.9617 - val_loss: 0.1609 - val_accuracy: 0.9537\n",
            "Epoch 10/50\n",
            "517/517 [==============================] - 242s 468ms/step - loss: 0.1175 - accuracy: 0.9623 - val_loss: 0.1509 - val_accuracy: 0.9575\n",
            "Epoch 11/50\n",
            "517/517 [==============================] - ETA: 0s - loss: 0.1142 - accuracy: 0.9621Restoring model weights from the end of the best epoch: 6.\n",
            "517/517 [==============================] - 242s 468ms/step - loss: 0.1142 - accuracy: 0.9621 - val_loss: 0.1653 - val_accuracy: 0.9572\n",
            "Epoch 11: early stopping\n"
          ]
        }
      ],
      "id": "ced6RWMjLaMY"
    },
    {
      "cell_type": "code",
      "source": [
        "pd.DataFrame({'accuracy': history.history['accuracy'][3:],\n",
        "              'val_accuracy': history.history['val_accuracy'][3:]}).plot.line();"
      ],
      "metadata": {
        "colab": {
          "base_uri": "https://localhost:8080/",
          "height": 265
        },
        "outputId": "ce1ba8ec-c6b1-4944-8f26-14301de6deee",
        "id": "oMbIDKAiLaMr"
      },
      "execution_count": null,
      "outputs": [
        {
          "output_type": "display_data",
          "data": {
            "text/plain": [
              "<Figure size 432x288 with 1 Axes>"
            ],
            "image/png": "[encoded data removed]"
          },
          "metadata": {
            "needs_background": "light"
          }
        }
      ],
      "id": "oMbIDKAiLaMr"
    },
    {
      "cell_type": "code",
      "source": [
        "max(history.history['val_accuracy'])"
      ],
      "metadata": {
        "colab": {
          "base_uri": "https://localhost:8080/"
        },
        "outputId": "13db782d-ade7-49fd-9922-5647becde2fb",
        "id": "EEaGrbHcLaMr"
      },
      "execution_count": null,
      "outputs": [
        {
          "output_type": "execute_result",
          "data": {
            "text/plain": [
              "0.9595354795455933"
            ]
          },
          "metadata": {},
          "execution_count": 20
        }
      ],
      "id": "EEaGrbHcLaMr"
    },
    {
      "cell_type": "markdown",
      "source": [
        "Continued training did not improve accuracy."
      ],
      "metadata": {
        "id": "63-p-d3ZV8Eh"
      },
      "id": "63-p-d3ZV8Eh"
    },
    {
      "cell_type": "markdown",
      "source": [
        "#Conclusion\n",
        "Batch normalization did not improve accuracy but accelerated convergence (fewer epochs)."
      ],
      "metadata": {
        "id": "O-aRbAoYtxdL"
      },
      "id": "O-aRbAoYtxdL"
    }
  ],
  "metadata": {
    "kernelspec": {
      "display_name": "Python 3 (ipykernel)",
      "language": "python",
      "name": "python3"
    },
    "language_info": {
      "codemirror_mode": {
        "name": "ipython",
        "version": 3
      },
      "file_extension": ".py",
      "mimetype": "text/x-python",
      "name": "python",
      "nbconvert_exporter": "python",
      "pygments_lexer": "ipython3",
      "version": "3.10.9"
    },
    "colab": {
      "provenance": []
    },
    "accelerator": "GPU",
    "gpuClass": "standard"
  },
  "nbformat": 4,
  "nbformat_minor": 5
}