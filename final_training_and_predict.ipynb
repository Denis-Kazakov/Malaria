{
  "cells": [
    {
      "cell_type": "markdown",
      "source": [
        "# Training the model with optimized hyperparameters on the full set (training + validation) and predicting on the test set"
      ],
      "metadata": {
        "id": "cPR59OBntxX0"
      },
      "id": "cPR59OBntxX0"
    },
    {
      "cell_type": "code",
      "execution_count": null,
      "id": "1f431690",
      "metadata": {
        "scrolled": true,
        "id": "1f431690"
      },
      "outputs": [],
      "source": [
        "import tensorflow as tf\n",
        "from tensorflow import keras\n",
        "import tensorflow_datasets as tfds\n",
        "import pandas as pd"
      ]
    },
    {
      "cell_type": "code",
      "execution_count": null,
      "id": "35511d2e",
      "metadata": {
        "colab": {
          "base_uri": "https://localhost:8080/"
        },
        "id": "35511d2e",
        "outputId": "b92c6ad7-282f-4ffd-f9f6-b257693f5c32"
      },
      "outputs": [
        {
          "output_type": "stream",
          "name": "stdout",
          "text": [
            "Mounted at /content/gdrive\n"
          ]
        }
      ],
      "source": [
        "from google.colab import drive\n",
        "drive.mount('/content/gdrive')"
      ]
    },
    {
      "cell_type": "markdown",
      "id": "9e4d7998",
      "metadata": {
        "id": "9e4d7998"
      },
      "source": [
        "Loading train, validation and test sets"
      ]
    },
    {
      "cell_type": "code",
      "execution_count": null,
      "metadata": {
        "id": "4R0gNgH6HPRL"
      },
      "outputs": [],
      "source": [
        "ds = tfds.load('malaria', \n",
        "               split=('train[:80%]', 'train[80%:]'), \n",
        "               shuffle_files=False,\n",
        "              data_dir='/content/gdrive/MyDrive/datasets/Malaria',\n",
        "               batch_size=32,\n",
        "              download=True,\n",
        "              as_supervised=True,\n",
        "              with_info=False)"
      ],
      "id": "4R0gNgH6HPRL"
    },
    {
      "cell_type": "code",
      "execution_count": null,
      "metadata": {
        "id": "L4VUYwMSDWYf"
      },
      "outputs": [],
      "source": [
        "def build_model(init_filters, kernel_size, num_convols):\n",
        "    inputs = keras.Input(shape=(None, None, 3))\n",
        "    x = keras.layers.Rescaling(scale=1.0 / 255)(inputs)\n",
        "    num_chan = init_filters\n",
        "    x = keras.layers.Conv2D(\n",
        "        filters=init_filters,\n",
        "        kernel_size=kernel_size,\n",
        "        strides=(1, 1),\n",
        "        padding=\"valid\",\n",
        "        activation='relu')(x)\n",
        "    for i in range(num_convols):\n",
        "        # i is the number of convlutions with MaxPooling\n",
        "        # There is another convolution with GlobalMaxPooling\n",
        "        if i != 0:\n",
        "            x = keras.layers.MaxPooling2D(\n",
        "                pool_size=(2, 2), \n",
        "                strides=None, \n",
        "                padding=\"valid\")(x)\n",
        "            num_chan = init_filters * (i + 1)\n",
        "            x = keras.layers.Conv2D(\n",
        "                filters=num_chan,\n",
        "                kernel_size=kernel_size,\n",
        "                strides=(1, 1),\n",
        "                padding=\"valid\",\n",
        "                activation='relu')(x)\n",
        "    x = keras.layers.GlobalMaxPooling2D()(x)\n",
        "    x = keras.layers.Flatten()(x)\n",
        "    x = keras.layers.Dense(units=num_chan,\n",
        "                            activation=\"relu\",\n",
        "                          kernel_regularizer=None)(x)\n",
        "    x = keras.layers.Dropout(0.2)(x)\n",
        "    outputs = keras.layers.Dense(1, activation=\"sigmoid\")(x)\n",
        "    model = keras.Model(inputs=inputs, outputs=outputs)\n",
        "    model.compile(optimizer='Adam',\n",
        "         loss='binary_crossentropy',\n",
        "         metrics=['accuracy'])    \n",
        "    return model"
      ],
      "id": "L4VUYwMSDWYf"
    },
    {
      "cell_type": "code",
      "source": [
        "model = build_model(64, 2, 5)\n",
        "model.summary()"
      ],
      "metadata": {
        "id": "pEk61RyeIbyg",
        "colab": {
          "base_uri": "https://localhost:8080/"
        },
        "outputId": "5d2f76a2-b1a1-4763-dc88-6240f109606e"
      },
      "id": "pEk61RyeIbyg",
      "execution_count": null,
      "outputs": [
        {
          "output_type": "stream",
          "name": "stdout",
          "text": [
            "Model: \"model\"\n",
            "_________________________________________________________________\n",
            " Layer (type)                Output Shape              Param #   \n",
            "=================================================================\n",
            " input_1 (InputLayer)        [(None, None, None, 3)]   0         \n",
            "                                                                 \n",
            " rescaling (Rescaling)       (None, None, None, 3)     0         \n",
            "                                                                 \n",
            " conv2d (Conv2D)             (None, None, None, 64)    832       \n",
            "                                                                 \n",
            " max_pooling2d (MaxPooling2D  (None, None, None, 64)   0         \n",
            " )                                                               \n",
            "                                                                 \n",
            " conv2d_1 (Conv2D)           (None, None, None, 128)   32896     \n",
            "                                                                 \n",
            " max_pooling2d_1 (MaxPooling  (None, None, None, 128)  0         \n",
            " 2D)                                                             \n",
            "                                                                 \n",
            " conv2d_2 (Conv2D)           (None, None, None, 192)   98496     \n",
            "                                                                 \n",
            " max_pooling2d_2 (MaxPooling  (None, None, None, 192)  0         \n",
            " 2D)                                                             \n",
            "                                                                 \n",
            " conv2d_3 (Conv2D)           (None, None, None, 256)   196864    \n",
            "                                                                 \n",
            " max_pooling2d_3 (MaxPooling  (None, None, None, 256)  0         \n",
            " 2D)                                                             \n",
            "                                                                 \n",
            " conv2d_4 (Conv2D)           (None, None, None, 320)   328000    \n",
            "                                                                 \n",
            " global_max_pooling2d (Globa  (None, 320)              0         \n",
            " lMaxPooling2D)                                                  \n",
            "                                                                 \n",
            " flatten (Flatten)           (None, 320)               0         \n",
            "                                                                 \n",
            " dense (Dense)               (None, 320)               102720    \n",
            "                                                                 \n",
            " dropout (Dropout)           (None, 320)               0         \n",
            "                                                                 \n",
            " dense_1 (Dense)             (None, 1)                 321       \n",
            "                                                                 \n",
            "=================================================================\n",
            "Total params: 760,129\n",
            "Trainable params: 760,129\n",
            "Non-trainable params: 0\n",
            "_________________________________________________________________\n"
          ]
        }
      ]
    },
    {
      "cell_type": "code",
      "source": [
        "history = model.fit(\n",
        "    ds[0],\n",
        "    epochs=10,\n",
        "    verbose=\"auto\")"
      ],
      "metadata": {
        "id": "0A1rRF72IdEc",
        "colab": {
          "base_uri": "https://localhost:8080/"
        },
        "outputId": "4cfb8bbe-d8bc-4f26-c148-43b08e923a84"
      },
      "id": "0A1rRF72IdEc",
      "execution_count": null,
      "outputs": [
        {
          "output_type": "stream",
          "name": "stdout",
          "text": [
            "Epoch 1/10\n",
            "689/689 [==============================] - 326s 459ms/step - loss: 0.2063 - accuracy: 0.9185\n",
            "Epoch 2/10\n",
            "689/689 [==============================] - 50s 72ms/step - loss: 0.1391 - accuracy: 0.9575\n",
            "Epoch 3/10\n",
            "689/689 [==============================] - 50s 72ms/step - loss: 0.1303 - accuracy: 0.9596\n",
            "Epoch 4/10\n",
            "689/689 [==============================] - 49s 72ms/step - loss: 0.1254 - accuracy: 0.9604\n",
            "Epoch 5/10\n",
            "689/689 [==============================] - 49s 71ms/step - loss: 0.1195 - accuracy: 0.9626\n",
            "Epoch 6/10\n",
            "689/689 [==============================] - 49s 71ms/step - loss: 0.1132 - accuracy: 0.9641\n",
            "Epoch 7/10\n",
            "689/689 [==============================] - 49s 71ms/step - loss: 0.1054 - accuracy: 0.9662\n",
            "Epoch 8/10\n",
            "689/689 [==============================] - 50s 72ms/step - loss: 0.0987 - accuracy: 0.9667\n",
            "Epoch 9/10\n",
            "689/689 [==============================] - 49s 71ms/step - loss: 0.0908 - accuracy: 0.9690\n",
            "Epoch 10/10\n",
            "689/689 [==============================] - 49s 71ms/step - loss: 0.0830 - accuracy: 0.9710\n"
          ]
        }
      ]
    },
    {
      "cell_type": "code",
      "source": [
        "pd.DataFrame({'accuracy': history.history['accuracy']}).plot.line();"
      ],
      "metadata": {
        "id": "Dygz8bdYKUGM",
        "colab": {
          "base_uri": "https://localhost:8080/",
          "height": 265
        },
        "outputId": "63217c38-972d-48a2-c67d-9ed10e784332"
      },
      "id": "Dygz8bdYKUGM",
      "execution_count": null,
      "outputs": [
        {
          "output_type": "display_data",
          "data": {
            "text/plain": [
              "<Figure size 432x288 with 1 Axes>"
            ],
            "image/png": "[encoded data removed]"
          },
          "metadata": {
            "needs_background": "light"
          }
        }
      ]
    },
    {
      "cell_type": "code",
      "source": [
        " max(history.history['accuracy'])"
      ],
      "metadata": {
        "colab": {
          "base_uri": "https://localhost:8080/"
        },
        "id": "-r852mCIhhFJ",
        "outputId": "f3e49040-b4db-4786-b866-f6094a06ff0d"
      },
      "id": "-r852mCIhhFJ",
      "execution_count": null,
      "outputs": [
        {
          "output_type": "execute_result",
          "data": {
            "text/plain": [
              "0.9710151553153992"
            ]
          },
          "metadata": {},
          "execution_count": 10
        }
      ]
    },
    {
      "cell_type": "code",
      "source": [
        "model.evaluate(ds[1])"
      ],
      "metadata": {
        "id": "9hZ16D5EKW-7",
        "colab": {
          "base_uri": "https://localhost:8080/"
        },
        "outputId": "b60c4576-0c4a-4996-9608-4e423f209b4b"
      },
      "id": "9hZ16D5EKW-7",
      "execution_count": null,
      "outputs": [
        {
          "output_type": "stream",
          "name": "stdout",
          "text": [
            "173/173 [==============================] - 16s 90ms/step - loss: 0.1799 - accuracy: 0.9545\n"
          ]
        },
        {
          "output_type": "execute_result",
          "data": {
            "text/plain": [
              "[0.17988701164722443, 0.954463005065918]"
            ]
          },
          "metadata": {},
          "execution_count": 11
        }
      ]
    },
    {
      "cell_type": "markdown",
      "source": [
        "# Accuracy 95.4% on the test set"
      ],
      "metadata": {
        "id": "B18jweUc9gqi"
      },
      "id": "B18jweUc9gqi"
    }
  ],
  "metadata": {
    "kernelspec": {
      "display_name": "Python 3 (ipykernel)",
      "language": "python",
      "name": "python3"
    },
    "language_info": {
      "codemirror_mode": {
        "name": "ipython",
        "version": 3
      },
      "file_extension": ".py",
      "mimetype": "text/x-python",
      "name": "python",
      "nbconvert_exporter": "python",
      "pygments_lexer": "ipython3",
      "version": "3.10.9"
    },
    "colab": {
      "provenance": []
    },
    "accelerator": "GPU",
    "gpuClass": "standard"
  },
  "nbformat": 4,
  "nbformat_minor": 5
}