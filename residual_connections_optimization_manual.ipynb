{
  "cells": [
    {
      "cell_type": "markdown",
      "source": [
        "# Model with residual connections"
      ],
      "metadata": {
        "id": "idmr1W3q5ahU"
      },
      "id": "idmr1W3q5ahU"
    },
    {
      "cell_type": "code",
      "execution_count": null,
      "id": "1f431690",
      "metadata": {
        "scrolled": true,
        "id": "1f431690"
      },
      "outputs": [],
      "source": [
        "import tensorflow as tf\n",
        "from tensorflow import keras\n",
        "import tensorflow_datasets as tfds\n",
        "import pandas as pd"
      ]
    },
    {
      "cell_type": "code",
      "execution_count": null,
      "id": "35511d2e",
      "metadata": {
        "colab": {
          "base_uri": "https://localhost:8080/"
        },
        "id": "35511d2e",
        "outputId": "800729eb-4d4a-4a53-fdee-2e01499ec42f"
      },
      "outputs": [
        {
          "output_type": "stream",
          "name": "stdout",
          "text": [
            "Mounted at /content/gdrive\n"
          ]
        }
      ],
      "source": [
        "from google.colab import drive\n",
        "drive.mount('/content/gdrive')"
      ]
    },
    {
      "cell_type": "markdown",
      "id": "9e4d7998",
      "metadata": {
        "id": "9e4d7998"
      },
      "source": [
        "Loading train, validation and test sets"
      ]
    },
    {
      "cell_type": "code",
      "execution_count": null,
      "metadata": {
        "id": "4R0gNgH6HPRL"
      },
      "outputs": [],
      "source": [
        "ds = tfds.load('malaria', \n",
        "               split=('train[:60%]', 'train[60%:80%]', 'train[80%:]'), \n",
        "               shuffle_files=False,\n",
        "              data_dir='/content/gdrive/MyDrive/datasets/Malaria',\n",
        "               batch_size=32,\n",
        "              download=True,\n",
        "              as_supervised=True,\n",
        "              with_info=False)"
      ],
      "id": "4R0gNgH6HPRL"
    },
    {
      "cell_type": "markdown",
      "source": [
        "# Model building"
      ],
      "metadata": {
        "id": "ep3vZn0KcBJp"
      },
      "id": "ep3vZn0KcBJp"
    },
    {
      "cell_type": "code",
      "source": [
        "callbacks = [\n",
        "    keras.callbacks.EarlyStopping(\n",
        "        monitor=\"val_accuracy\",\n",
        "        min_delta=0,\n",
        "        patience=5,\n",
        "        verbose=1,\n",
        "        mode=\"max\",\n",
        "        baseline=None,\n",
        "        restore_best_weights=True)\n",
        "    ]"
      ],
      "metadata": {
        "id": "XjE5fu1IKGlc"
      },
      "id": "XjE5fu1IKGlc",
      "execution_count": null,
      "outputs": []
    },
    {
      "cell_type": "code",
      "execution_count": null,
      "metadata": {
        "id": "L4VUYwMSDWYf"
      },
      "outputs": [],
      "source": [
        "def build_model(init_filters, kernel_size, num_resid):\n",
        "    '''I keep the number of filters the same in all layers in this version'''\n",
        "    inputs = keras.Input(shape=(None, None, 3))\n",
        "    x = keras.layers.Rescaling(scale=1.0 / 255)(inputs)\n",
        "    x = keras.layers.Conv2D(\n",
        "      filters=init_filters,\n",
        "      kernel_size=kernel_size,\n",
        "      strides=(1, 1),\n",
        "      padding=\"same\",\n",
        "      activation='relu')(x)\n",
        "    x = keras.layers.MaxPooling2D(\n",
        "        pool_size=(2, 2), \n",
        "        strides=None, \n",
        "        padding=\"same\")(x)\n",
        "    prev_block_output = x\n",
        "    for i in range(1, num_resid + 1):\n",
        "        # i is the number of blocks with residual connections\n",
        "      x = keras.layers.Conv2D(\n",
        "          filters=init_filters,\n",
        "          kernel_size=kernel_size,\n",
        "          strides=(1, 1),\n",
        "          padding=\"same\",\n",
        "          activation='relu')(x)\n",
        "      x = keras.layers.Conv2D(\n",
        "          filters=init_filters,\n",
        "          kernel_size=kernel_size,\n",
        "          strides=(1, 1),\n",
        "          padding=\"same\",\n",
        "          activation='relu')(x)\n",
        "      x = keras.layers.add([x, prev_block_output])\n",
        "      prev_block_output = x\n",
        "    x = keras.layers.Conv2D(\n",
        "        filters=init_filters,\n",
        "        kernel_size=kernel_size,\n",
        "        strides=(1, 1),\n",
        "        padding=\"same\",\n",
        "        activation='relu')(prev_block_output)\n",
        "    x = keras.layers.GlobalMaxPooling2D()(x)\n",
        "    x = keras.layers.Flatten()(x)\n",
        "    x = keras.layers.Dense(units=init_filters,\n",
        "                            activation=\"relu\",\n",
        "                          kernel_regularizer=None)(x)\n",
        "    x = keras.layers.Dropout(0.2)(x)\n",
        "    outputs = keras.layers.Dense(1, activation=\"sigmoid\")(x)\n",
        "    model = keras.Model(inputs=inputs, outputs=outputs)\n",
        "    model.compile(optimizer='Adam',\n",
        "         loss='binary_crossentropy',\n",
        "         metrics=['accuracy'])    \n",
        "    return model"
      ],
      "id": "L4VUYwMSDWYf"
    },
    {
      "cell_type": "code",
      "source": [
        "model = build_model(32, 2, 1)\n",
        "model.summary()"
      ],
      "metadata": {
        "id": "pEk61RyeIbyg",
        "colab": {
          "base_uri": "https://localhost:8080/"
        },
        "outputId": "4be60230-7c03-46f4-a2cd-705be49aa7ca"
      },
      "id": "pEk61RyeIbyg",
      "execution_count": null,
      "outputs": [
        {
          "output_type": "stream",
          "name": "stdout",
          "text": [
            "Model: \"model_11\"\n",
            "__________________________________________________________________________________________________\n",
            " Layer (type)                   Output Shape         Param #     Connected to                     \n",
            "==================================================================================================\n",
            " input_19 (InputLayer)          [(None, None, None,  0           []                               \n",
            "                                 3)]                                                              \n",
            "                                                                                                  \n",
            " rescaling_18 (Rescaling)       (None, None, None,   0           ['input_19[0][0]']               \n",
            "                                3)                                                                \n",
            "                                                                                                  \n",
            " conv2d_96 (Conv2D)             (None, None, None,   416         ['rescaling_18[0][0]']           \n",
            "                                32)                                                               \n",
            "                                                                                                  \n",
            " max_pooling2d_15 (MaxPooling2D  (None, None, None,   0          ['conv2d_96[0][0]']              \n",
            " )                              32)                                                               \n",
            "                                                                                                  \n",
            " conv2d_97 (Conv2D)             (None, None, None,   4128        ['max_pooling2d_15[0][0]']       \n",
            "                                32)                                                               \n",
            "                                                                                                  \n",
            " conv2d_98 (Conv2D)             (None, None, None,   4128        ['conv2d_97[0][0]']              \n",
            "                                32)                                                               \n",
            "                                                                                                  \n",
            " add_31 (Add)                   (None, None, None,   0           ['conv2d_98[0][0]',              \n",
            "                                32)                               'max_pooling2d_15[0][0]']       \n",
            "                                                                                                  \n",
            " conv2d_99 (Conv2D)             (None, None, None,   4128        ['add_31[0][0]']                 \n",
            "                                32)                                                               \n",
            "                                                                                                  \n",
            " global_max_pooling2d_10 (Globa  (None, 32)          0           ['conv2d_99[0][0]']              \n",
            " lMaxPooling2D)                                                                                   \n",
            "                                                                                                  \n",
            " flatten_6 (Flatten)            (None, 32)           0           ['global_max_pooling2d_10[0][0]']\n",
            "                                                                                                  \n",
            " dense_20 (Dense)               (None, 32)           1056        ['flatten_6[0][0]']              \n",
            "                                                                                                  \n",
            " dropout_10 (Dropout)           (None, 32)           0           ['dense_20[0][0]']               \n",
            "                                                                                                  \n",
            " dense_21 (Dense)               (None, 1)            33          ['dropout_10[0][0]']             \n",
            "                                                                                                  \n",
            "==================================================================================================\n",
            "Total params: 13,889\n",
            "Trainable params: 13,889\n",
            "Non-trainable params: 0\n",
            "__________________________________________________________________________________________________\n"
          ]
        }
      ]
    },
    {
      "cell_type": "code",
      "source": [
        "history = model.fit(\n",
        "    ds[0],\n",
        "    epochs=50,\n",
        "    verbose=\"auto\",\n",
        "    callbacks=callbacks,\n",
        "    validation_data=ds[1]\n",
        ")"
      ],
      "metadata": {
        "id": "0A1rRF72IdEc",
        "colab": {
          "base_uri": "https://localhost:8080/"
        },
        "outputId": "bd01b373-a131-4331-a7f2-1ac0f59aee55"
      },
      "id": "0A1rRF72IdEc",
      "execution_count": null,
      "outputs": [
        {
          "output_type": "stream",
          "name": "stdout",
          "text": [
            "Epoch 1/50\n",
            "517/517 [==============================] - ETA: 0s - loss: 0.5858 - accuracy: 0.6377"
          ]
        },
        {
          "output_type": "stream",
          "name": "stderr",
          "text": [
            "WARNING:absl:Found untraced functions such as _jit_compiled_convolution_op, _jit_compiled_convolution_op, _jit_compiled_convolution_op, _jit_compiled_convolution_op while saving (showing 4 of 4). These functions will not be directly callable after loading.\n"
          ]
        },
        {
          "output_type": "stream",
          "name": "stdout",
          "text": [
            "\b\b\b\b\b\b\b\b\b\b\b\b\b\b\b\b\b\b\b\b\b\b\b\b\b\b\b\b\b\b\b\b\b\b\b\b\b\b\b\b\b\b\b\b\b\b\b\b\b\b\b\b\b\b\b\b\b\b\b\b\b\b\b\b\b\b\b\b\b\b\b\b\b\b\b\b\b\b\b\b\b\b\b\b\r517/517 [==============================] - 86s 166ms/step - loss: 0.5858 - accuracy: 0.6377 - val_loss: 0.1734 - val_accuracy: 0.9447\n",
            "Epoch 2/50\n",
            "517/517 [==============================] - ETA: 0s - loss: 0.1647 - accuracy: 0.9503"
          ]
        },
        {
          "output_type": "stream",
          "name": "stderr",
          "text": [
            "WARNING:absl:Found untraced functions such as _jit_compiled_convolution_op, _jit_compiled_convolution_op, _jit_compiled_convolution_op, _jit_compiled_convolution_op while saving (showing 4 of 4). These functions will not be directly callable after loading.\n"
          ]
        },
        {
          "output_type": "stream",
          "name": "stdout",
          "text": [
            "\b\b\b\b\b\b\b\b\b\b\b\b\b\b\b\b\b\b\b\b\b\b\b\b\b\b\b\b\b\b\b\b\b\b\b\b\b\b\b\b\b\b\b\b\b\b\b\b\b\b\b\b\b\b\b\b\b\b\b\b\b\b\b\b\b\b\b\b\b\b\b\b\b\b\b\b\b\b\b\b\b\b\b\b\r517/517 [==============================] - 79s 154ms/step - loss: 0.1647 - accuracy: 0.9503 - val_loss: 0.1438 - val_accuracy: 0.9543\n",
            "Epoch 3/50\n",
            "517/517 [==============================] - ETA: 0s - loss: 0.1528 - accuracy: 0.9523"
          ]
        },
        {
          "output_type": "stream",
          "name": "stderr",
          "text": [
            "WARNING:absl:Found untraced functions such as _jit_compiled_convolution_op, _jit_compiled_convolution_op, _jit_compiled_convolution_op, _jit_compiled_convolution_op while saving (showing 4 of 4). These functions will not be directly callable after loading.\n"
          ]
        },
        {
          "output_type": "stream",
          "name": "stdout",
          "text": [
            "\b\b\b\b\b\b\b\b\b\b\b\b\b\b\b\b\b\b\b\b\b\b\b\b\b\b\b\b\b\b\b\b\b\b\b\b\b\b\b\b\b\b\b\b\b\b\b\b\b\b\b\b\b\b\b\b\b\b\b\b\b\b\b\b\b\b\b\b\b\b\b\b\b\b\b\b\b\b\b\b\b\b\b\b\r517/517 [==============================] - 24s 47ms/step - loss: 0.1528 - accuracy: 0.9523 - val_loss: 0.1407 - val_accuracy: 0.9552\n",
            "Epoch 4/50\n",
            "517/517 [==============================] - ETA: 0s - loss: 0.1467 - accuracy: 0.9544"
          ]
        },
        {
          "output_type": "stream",
          "name": "stderr",
          "text": [
            "WARNING:absl:Found untraced functions such as _jit_compiled_convolution_op, _jit_compiled_convolution_op, _jit_compiled_convolution_op, _jit_compiled_convolution_op while saving (showing 4 of 4). These functions will not be directly callable after loading.\n"
          ]
        },
        {
          "output_type": "stream",
          "name": "stdout",
          "text": [
            "\b\b\b\b\b\b\b\b\b\b\b\b\b\b\b\b\b\b\b\b\b\b\b\b\b\b\b\b\b\b\b\b\b\b\b\b\b\b\b\b\b\b\b\b\b\b\b\b\b\b\b\b\b\b\b\b\b\b\b\b\b\b\b\b\b\b\b\b\b\b\b\b\b\b\b\b\b\b\b\b\b\b\b\b\r517/517 [==============================] - 24s 47ms/step - loss: 0.1467 - accuracy: 0.9544 - val_loss: 0.1357 - val_accuracy: 0.9565\n",
            "Epoch 5/50\n",
            "517/517 [==============================] - ETA: 0s - loss: 0.1456 - accuracy: 0.9542"
          ]
        },
        {
          "output_type": "stream",
          "name": "stderr",
          "text": [
            "WARNING:absl:Found untraced functions such as _jit_compiled_convolution_op, _jit_compiled_convolution_op, _jit_compiled_convolution_op, _jit_compiled_convolution_op while saving (showing 4 of 4). These functions will not be directly callable after loading.\n"
          ]
        },
        {
          "output_type": "stream",
          "name": "stdout",
          "text": [
            "\b\b\b\b\b\b\b\b\b\b\b\b\b\b\b\b\b\b\b\b\b\b\b\b\b\b\b\b\b\b\b\b\b\b\b\b\b\b\b\b\b\b\b\b\b\b\b\b\b\b\b\b\b\b\b\b\b\b\b\b\b\b\b\b\b\b\b\b\b\b\b\b\b\b\b\b\b\b\b\b\b\b\b\b\r517/517 [==============================] - 24s 47ms/step - loss: 0.1456 - accuracy: 0.9542 - val_loss: 0.1412 - val_accuracy: 0.9528\n",
            "Epoch 6/50\n",
            "517/517 [==============================] - ETA: 0s - loss: 0.1403 - accuracy: 0.9552"
          ]
        },
        {
          "output_type": "stream",
          "name": "stderr",
          "text": [
            "WARNING:absl:Found untraced functions such as _jit_compiled_convolution_op, _jit_compiled_convolution_op, _jit_compiled_convolution_op, _jit_compiled_convolution_op while saving (showing 4 of 4). These functions will not be directly callable after loading.\n"
          ]
        },
        {
          "output_type": "stream",
          "name": "stdout",
          "text": [
            "\b\b\b\b\b\b\b\b\b\b\b\b\b\b\b\b\b\b\b\b\b\b\b\b\b\b\b\b\b\b\b\b\b\b\b\b\b\b\b\b\b\b\b\b\b\b\b\b\b\b\b\b\b\b\b\b\b\b\b\b\b\b\b\b\b\b\b\b\b\b\b\b\b\b\b\b\b\b\b\b\b\b\b\b\r517/517 [==============================] - 25s 48ms/step - loss: 0.1403 - accuracy: 0.9552 - val_loss: 0.1417 - val_accuracy: 0.9516\n",
            "Epoch 7/50\n",
            "517/517 [==============================] - ETA: 0s - loss: 0.1388 - accuracy: 0.9553"
          ]
        },
        {
          "output_type": "stream",
          "name": "stderr",
          "text": [
            "WARNING:absl:Found untraced functions such as _jit_compiled_convolution_op, _jit_compiled_convolution_op, _jit_compiled_convolution_op, _jit_compiled_convolution_op while saving (showing 4 of 4). These functions will not be directly callable after loading.\n"
          ]
        },
        {
          "output_type": "stream",
          "name": "stdout",
          "text": [
            "\b\b\b\b\b\b\b\b\b\b\b\b\b\b\b\b\b\b\b\b\b\b\b\b\b\b\b\b\b\b\b\b\b\b\b\b\b\b\b\b\b\b\b\b\b\b\b\b\b\b\b\b\b\b\b\b\b\b\b\b\b\b\b\b\b\b\b\b\b\b\b\b\b\b\b\b\b\b\b\b\b\b\b\b\r517/517 [==============================] - 24s 47ms/step - loss: 0.1388 - accuracy: 0.9553 - val_loss: 0.1408 - val_accuracy: 0.9516\n",
            "Epoch 8/50\n",
            "517/517 [==============================] - ETA: 0s - loss: 0.1365 - accuracy: 0.9569"
          ]
        },
        {
          "output_type": "stream",
          "name": "stderr",
          "text": [
            "WARNING:absl:Found untraced functions such as _jit_compiled_convolution_op, _jit_compiled_convolution_op, _jit_compiled_convolution_op, _jit_compiled_convolution_op while saving (showing 4 of 4). These functions will not be directly callable after loading.\n"
          ]
        },
        {
          "output_type": "stream",
          "name": "stdout",
          "text": [
            "\b\b\b\b\b\b\b\b\b\b\b\b\b\b\b\b\b\b\b\b\b\b\b\b\b\b\b\b\b\b\b\b\b\b\b\b\b\b\b\b\b\b\b\b\b\b\b\b\b\b\b\b\b\b\b\b\b\b\b\b\b\b\b\b\b\b\b\b\b\b\b\b\b\b\b\b\b\b\b\b\b\b\b\b\r517/517 [==============================] - 24s 47ms/step - loss: 0.1365 - accuracy: 0.9569 - val_loss: 0.1324 - val_accuracy: 0.9545\n",
            "Epoch 9/50\n",
            "517/517 [==============================] - ETA: 0s - loss: 0.1345 - accuracy: 0.9562"
          ]
        },
        {
          "output_type": "stream",
          "name": "stderr",
          "text": [
            "WARNING:absl:Found untraced functions such as _jit_compiled_convolution_op, _jit_compiled_convolution_op, _jit_compiled_convolution_op, _jit_compiled_convolution_op while saving (showing 4 of 4). These functions will not be directly callable after loading.\n"
          ]
        },
        {
          "output_type": "stream",
          "name": "stdout",
          "text": [
            "\b\b\b\b\b\b\b\b\b\b\b\b\b\b\b\b\b\b\b\b\b\b\b\b\b\b\b\b\b\b\b\b\b\b\b\b\b\b\b\b\b\b\b\b\b\b\b\b\b\b\b\b\b\b\b\b\b\b\b\b\b\b\b\b\b\b\b\b\b\b\b\b\b\b\b\b\b\b\b\b\b\b\b\b\r517/517 [==============================] - 24s 47ms/step - loss: 0.1345 - accuracy: 0.9562 - val_loss: 0.1299 - val_accuracy: 0.9577\n",
            "Epoch 10/50\n",
            "517/517 [==============================] - ETA: 0s - loss: 0.1338 - accuracy: 0.9564"
          ]
        },
        {
          "output_type": "stream",
          "name": "stderr",
          "text": [
            "WARNING:absl:Found untraced functions such as _jit_compiled_convolution_op, _jit_compiled_convolution_op, _jit_compiled_convolution_op, _jit_compiled_convolution_op while saving (showing 4 of 4). These functions will not be directly callable after loading.\n"
          ]
        },
        {
          "output_type": "stream",
          "name": "stdout",
          "text": [
            "\b\b\b\b\b\b\b\b\b\b\b\b\b\b\b\b\b\b\b\b\b\b\b\b\b\b\b\b\b\b\b\b\b\b\b\b\b\b\b\b\b\b\b\b\b\b\b\b\b\b\b\b\b\b\b\b\b\b\b\b\b\b\b\b\b\b\b\b\b\b\b\b\b\b\b\b\b\b\b\b\b\b\b\b\r517/517 [==============================] - 25s 47ms/step - loss: 0.1338 - accuracy: 0.9564 - val_loss: 0.1275 - val_accuracy: 0.9579\n",
            "Epoch 11/50\n",
            "517/517 [==============================] - ETA: 0s - loss: 0.1319 - accuracy: 0.9568"
          ]
        },
        {
          "output_type": "stream",
          "name": "stderr",
          "text": [
            "WARNING:absl:Found untraced functions such as _jit_compiled_convolution_op, _jit_compiled_convolution_op, _jit_compiled_convolution_op, _jit_compiled_convolution_op while saving (showing 4 of 4). These functions will not be directly callable after loading.\n"
          ]
        },
        {
          "output_type": "stream",
          "name": "stdout",
          "text": [
            "\b\b\b\b\b\b\b\b\b\b\b\b\b\b\b\b\b\b\b\b\b\b\b\b\b\b\b\b\b\b\b\b\b\b\b\b\b\b\b\b\b\b\b\b\b\b\b\b\b\b\b\b\b\b\b\b\b\b\b\b\b\b\b\b\b\b\b\b\b\b\b\b\b\b\b\b\b\b\b\b\b\b\b\b\r517/517 [==============================] - 25s 48ms/step - loss: 0.1319 - accuracy: 0.9568 - val_loss: 0.1281 - val_accuracy: 0.9586\n",
            "Epoch 12/50\n",
            "517/517 [==============================] - ETA: 0s - loss: 0.1307 - accuracy: 0.9575"
          ]
        },
        {
          "output_type": "stream",
          "name": "stderr",
          "text": [
            "WARNING:absl:Found untraced functions such as _jit_compiled_convolution_op, _jit_compiled_convolution_op, _jit_compiled_convolution_op, _jit_compiled_convolution_op while saving (showing 4 of 4). These functions will not be directly callable after loading.\n"
          ]
        },
        {
          "output_type": "stream",
          "name": "stdout",
          "text": [
            "\b\b\b\b\b\b\b\b\b\b\b\b\b\b\b\b\b\b\b\b\b\b\b\b\b\b\b\b\b\b\b\b\b\b\b\b\b\b\b\b\b\b\b\b\b\b\b\b\b\b\b\b\b\b\b\b\b\b\b\b\b\b\b\b\b\b\b\b\b\b\b\b\b\b\b\b\b\b\b\b\b\b\b\b\r517/517 [==============================] - 24s 47ms/step - loss: 0.1307 - accuracy: 0.9575 - val_loss: 0.1274 - val_accuracy: 0.9586\n",
            "Epoch 13/50\n",
            "517/517 [==============================] - ETA: 0s - loss: 0.1287 - accuracy: 0.9568"
          ]
        },
        {
          "output_type": "stream",
          "name": "stderr",
          "text": [
            "WARNING:absl:Found untraced functions such as _jit_compiled_convolution_op, _jit_compiled_convolution_op, _jit_compiled_convolution_op, _jit_compiled_convolution_op while saving (showing 4 of 4). These functions will not be directly callable after loading.\n"
          ]
        },
        {
          "output_type": "stream",
          "name": "stdout",
          "text": [
            "\b\b\b\b\b\b\b\b\b\b\b\b\b\b\b\b\b\b\b\b\b\b\b\b\b\b\b\b\b\b\b\b\b\b\b\b\b\b\b\b\b\b\b\b\b\b\b\b\b\b\b\b\b\b\b\b\b\b\b\b\b\b\b\b\b\b\b\b\b\b\b\b\b\b\b\b\b\b\b\b\b\b\b\b\r517/517 [==============================] - 25s 47ms/step - loss: 0.1287 - accuracy: 0.9568 - val_loss: 0.1318 - val_accuracy: 0.9592\n",
            "Epoch 14/50\n",
            "517/517 [==============================] - ETA: 0s - loss: 0.1292 - accuracy: 0.9585"
          ]
        },
        {
          "output_type": "stream",
          "name": "stderr",
          "text": [
            "WARNING:absl:Found untraced functions such as _jit_compiled_convolution_op, _jit_compiled_convolution_op, _jit_compiled_convolution_op, _jit_compiled_convolution_op while saving (showing 4 of 4). These functions will not be directly callable after loading.\n"
          ]
        },
        {
          "output_type": "stream",
          "name": "stdout",
          "text": [
            "\b\b\b\b\b\b\b\b\b\b\b\b\b\b\b\b\b\b\b\b\b\b\b\b\b\b\b\b\b\b\b\b\b\b\b\b\b\b\b\b\b\b\b\b\b\b\b\b\b\b\b\b\b\b\b\b\b\b\b\b\b\b\b\b\b\b\b\b\b\b\b\b\b\b\b\b\b\b\b\b\b\b\b\b\r517/517 [==============================] - 24s 47ms/step - loss: 0.1292 - accuracy: 0.9585 - val_loss: 0.1226 - val_accuracy: 0.9603\n",
            "Epoch 15/50\n",
            "517/517 [==============================] - ETA: 0s - loss: 0.1268 - accuracy: 0.9583"
          ]
        },
        {
          "output_type": "stream",
          "name": "stderr",
          "text": [
            "WARNING:absl:Found untraced functions such as _jit_compiled_convolution_op, _jit_compiled_convolution_op, _jit_compiled_convolution_op, _jit_compiled_convolution_op while saving (showing 4 of 4). These functions will not be directly callable after loading.\n"
          ]
        },
        {
          "output_type": "stream",
          "name": "stdout",
          "text": [
            "\b\b\b\b\b\b\b\b\b\b\b\b\b\b\b\b\b\b\b\b\b\b\b\b\b\b\b\b\b\b\b\b\b\b\b\b\b\b\b\b\b\b\b\b\b\b\b\b\b\b\b\b\b\b\b\b\b\b\b\b\b\b\b\b\b\b\b\b\b\b\b\b\b\b\b\b\b\b\b\b\b\b\b\b\r517/517 [==============================] - 24s 47ms/step - loss: 0.1268 - accuracy: 0.9583 - val_loss: 0.1291 - val_accuracy: 0.9606\n",
            "Epoch 16/50\n",
            "517/517 [==============================] - ETA: 0s - loss: 0.1256 - accuracy: 0.9588"
          ]
        },
        {
          "output_type": "stream",
          "name": "stderr",
          "text": [
            "WARNING:absl:Found untraced functions such as _jit_compiled_convolution_op, _jit_compiled_convolution_op, _jit_compiled_convolution_op, _jit_compiled_convolution_op while saving (showing 4 of 4). These functions will not be directly callable after loading.\n"
          ]
        },
        {
          "output_type": "stream",
          "name": "stdout",
          "text": [
            "\b\b\b\b\b\b\b\b\b\b\b\b\b\b\b\b\b\b\b\b\b\b\b\b\b\b\b\b\b\b\b\b\b\b\b\b\b\b\b\b\b\b\b\b\b\b\b\b\b\b\b\b\b\b\b\b\b\b\b\b\b\b\b\b\b\b\b\b\b\b\b\b\b\b\b\b\b\b\b\b\b\b\b\b\r517/517 [==============================] - 24s 47ms/step - loss: 0.1256 - accuracy: 0.9588 - val_loss: 0.1293 - val_accuracy: 0.9592\n",
            "Epoch 17/50\n",
            "517/517 [==============================] - ETA: 0s - loss: 0.1236 - accuracy: 0.9592"
          ]
        },
        {
          "output_type": "stream",
          "name": "stderr",
          "text": [
            "WARNING:absl:Found untraced functions such as _jit_compiled_convolution_op, _jit_compiled_convolution_op, _jit_compiled_convolution_op, _jit_compiled_convolution_op while saving (showing 4 of 4). These functions will not be directly callable after loading.\n"
          ]
        },
        {
          "output_type": "stream",
          "name": "stdout",
          "text": [
            "\b\b\b\b\b\b\b\b\b\b\b\b\b\b\b\b\b\b\b\b\b\b\b\b\b\b\b\b\b\b\b\b\b\b\b\b\b\b\b\b\b\b\b\b\b\b\b\b\b\b\b\b\b\b\b\b\b\b\b\b\b\b\b\b\b\b\b\b\b\b\b\b\b\b\b\b\b\b\b\b\b\b\b\b\r517/517 [==============================] - 24s 47ms/step - loss: 0.1236 - accuracy: 0.9592 - val_loss: 0.1269 - val_accuracy: 0.9590\n",
            "Epoch 18/50\n",
            "517/517 [==============================] - ETA: 0s - loss: 0.1222 - accuracy: 0.9606"
          ]
        },
        {
          "output_type": "stream",
          "name": "stderr",
          "text": [
            "WARNING:absl:Found untraced functions such as _jit_compiled_convolution_op, _jit_compiled_convolution_op, _jit_compiled_convolution_op, _jit_compiled_convolution_op while saving (showing 4 of 4). These functions will not be directly callable after loading.\n"
          ]
        },
        {
          "output_type": "stream",
          "name": "stdout",
          "text": [
            "\b\b\b\b\b\b\b\b\b\b\b\b\b\b\b\b\b\b\b\b\b\b\b\b\b\b\b\b\b\b\b\b\b\b\b\b\b\b\b\b\b\b\b\b\b\b\b\b\b\b\b\b\b\b\b\b\b\b\b\b\b\b\b\b\b\b\b\b\b\b\b\b\b\b\b\b\b\b\b\b\b\b\b\b\r517/517 [==============================] - 24s 47ms/step - loss: 0.1222 - accuracy: 0.9606 - val_loss: 0.1239 - val_accuracy: 0.9610\n",
            "Epoch 19/50\n",
            "517/517 [==============================] - ETA: 0s - loss: 0.1211 - accuracy: 0.9604"
          ]
        },
        {
          "output_type": "stream",
          "name": "stderr",
          "text": [
            "WARNING:absl:Found untraced functions such as _jit_compiled_convolution_op, _jit_compiled_convolution_op, _jit_compiled_convolution_op, _jit_compiled_convolution_op while saving (showing 4 of 4). These functions will not be directly callable after loading.\n"
          ]
        },
        {
          "output_type": "stream",
          "name": "stdout",
          "text": [
            "\b\b\b\b\b\b\b\b\b\b\b\b\b\b\b\b\b\b\b\b\b\b\b\b\b\b\b\b\b\b\b\b\b\b\b\b\b\b\b\b\b\b\b\b\b\b\b\b\b\b\b\b\b\b\b\b\b\b\b\b\b\b\b\b\b\b\b\b\b\b\b\b\b\b\b\b\b\b\b\b\b\b\b\b\r517/517 [==============================] - 25s 47ms/step - loss: 0.1211 - accuracy: 0.9604 - val_loss: 0.1199 - val_accuracy: 0.9615\n",
            "Epoch 20/50\n",
            "517/517 [==============================] - ETA: 0s - loss: 0.1181 - accuracy: 0.9606"
          ]
        },
        {
          "output_type": "stream",
          "name": "stderr",
          "text": [
            "WARNING:absl:Found untraced functions such as _jit_compiled_convolution_op, _jit_compiled_convolution_op, _jit_compiled_convolution_op, _jit_compiled_convolution_op while saving (showing 4 of 4). These functions will not be directly callable after loading.\n"
          ]
        },
        {
          "output_type": "stream",
          "name": "stdout",
          "text": [
            "\b\b\b\b\b\b\b\b\b\b\b\b\b\b\b\b\b\b\b\b\b\b\b\b\b\b\b\b\b\b\b\b\b\b\b\b\b\b\b\b\b\b\b\b\b\b\b\b\b\b\b\b\b\b\b\b\b\b\b\b\b\b\b\b\b\b\b\b\b\b\b\b\b\b\b\b\b\b\b\b\b\b\b\b\r517/517 [==============================] - 24s 47ms/step - loss: 0.1181 - accuracy: 0.9606 - val_loss: 0.1252 - val_accuracy: 0.9590\n",
            "Epoch 21/50\n",
            "517/517 [==============================] - ETA: 0s - loss: 0.1186 - accuracy: 0.9612"
          ]
        },
        {
          "output_type": "stream",
          "name": "stderr",
          "text": [
            "WARNING:absl:Found untraced functions such as _jit_compiled_convolution_op, _jit_compiled_convolution_op, _jit_compiled_convolution_op, _jit_compiled_convolution_op while saving (showing 4 of 4). These functions will not be directly callable after loading.\n"
          ]
        },
        {
          "output_type": "stream",
          "name": "stdout",
          "text": [
            "\b\b\b\b\b\b\b\b\b\b\b\b\b\b\b\b\b\b\b\b\b\b\b\b\b\b\b\b\b\b\b\b\b\b\b\b\b\b\b\b\b\b\b\b\b\b\b\b\b\b\b\b\b\b\b\b\b\b\b\b\b\b\b\b\b\b\b\b\b\b\b\b\b\b\b\b\b\b\b\b\b\b\b\b\r517/517 [==============================] - 24s 47ms/step - loss: 0.1186 - accuracy: 0.9612 - val_loss: 0.1226 - val_accuracy: 0.9614\n",
            "Epoch 22/50\n",
            "517/517 [==============================] - ETA: 0s - loss: 0.1168 - accuracy: 0.9609"
          ]
        },
        {
          "output_type": "stream",
          "name": "stderr",
          "text": [
            "WARNING:absl:Found untraced functions such as _jit_compiled_convolution_op, _jit_compiled_convolution_op, _jit_compiled_convolution_op, _jit_compiled_convolution_op while saving (showing 4 of 4). These functions will not be directly callable after loading.\n"
          ]
        },
        {
          "output_type": "stream",
          "name": "stdout",
          "text": [
            "\b\b\b\b\b\b\b\b\b\b\b\b\b\b\b\b\b\b\b\b\b\b\b\b\b\b\b\b\b\b\b\b\b\b\b\b\b\b\b\b\b\b\b\b\b\b\b\b\b\b\b\b\b\b\b\b\b\b\b\b\b\b\b\b\b\b\b\b\b\b\b\b\b\b\b\b\b\b\b\b\b\b\b\b\r517/517 [==============================] - 24s 47ms/step - loss: 0.1168 - accuracy: 0.9609 - val_loss: 0.1253 - val_accuracy: 0.9606\n",
            "Epoch 23/50\n",
            "516/517 [============================>.] - ETA: 0s - loss: 0.1163 - accuracy: 0.9614"
          ]
        },
        {
          "output_type": "stream",
          "name": "stderr",
          "text": [
            "WARNING:absl:Found untraced functions such as _jit_compiled_convolution_op, _jit_compiled_convolution_op, _jit_compiled_convolution_op, _jit_compiled_convolution_op while saving (showing 4 of 4). These functions will not be directly callable after loading.\n"
          ]
        },
        {
          "output_type": "stream",
          "name": "stdout",
          "text": [
            "\b\b\b\b\b\b\b\b\b\b\b\b\b\b\b\b\b\b\b\b\b\b\b\b\b\b\b\b\b\b\b\b\b\b\b\b\b\b\b\b\b\b\b\b\b\b\b\b\b\b\b\b\b\b\b\b\b\b\b\b\b\b\b\b\b\b\b\b\b\b\b\b\b\b\b\b\b\b\b\b\b\b\b\b\r517/517 [==============================] - 24s 47ms/step - loss: 0.1162 - accuracy: 0.9615 - val_loss: 0.1218 - val_accuracy: 0.9584\n",
            "Epoch 24/50\n",
            "517/517 [==============================] - ETA: 0s - loss: 0.1146 - accuracy: 0.9612Restoring model weights from the end of the best epoch: 19.\n"
          ]
        },
        {
          "output_type": "stream",
          "name": "stderr",
          "text": [
            "WARNING:absl:Found untraced functions such as _jit_compiled_convolution_op, _jit_compiled_convolution_op, _jit_compiled_convolution_op, _jit_compiled_convolution_op while saving (showing 4 of 4). These functions will not be directly callable after loading.\n"
          ]
        },
        {
          "output_type": "stream",
          "name": "stdout",
          "text": [
            "\b\b\b\b\b\b\b\b\b\b\b\b\b\b\b\b\b\b\b\b\b\b\b\b\b\b\b\b\b\b\b\b\b\b\b\b\b\b\b\b\b\b\b\b\b\b\b\b\b\b\b\b\b\b\b\b\b\b\b\b\b\b\b\b\b\b\b\b\b\b\b\b\b\b\b\b\b\b\b\b\b\b\b\b\r517/517 [==============================] - 25s 48ms/step - loss: 0.1146 - accuracy: 0.9612 - val_loss: 0.1230 - val_accuracy: 0.9612\n",
            "Epoch 24: early stopping\n"
          ]
        }
      ]
    },
    {
      "cell_type": "code",
      "source": [
        "pd.DataFrame({'accuracy': history.history['accuracy'][3:],\n",
        "              'val_accuracy': history.history['val_accuracy'][3:]}).plot.line();"
      ],
      "metadata": {
        "id": "Dygz8bdYKUGM",
        "colab": {
          "base_uri": "https://localhost:8080/",
          "height": 269
        },
        "outputId": "3558d934-3b70-4243-fec5-2a70761a8fed"
      },
      "id": "Dygz8bdYKUGM",
      "execution_count": null,
      "outputs": [
        {
          "output_type": "display_data",
          "data": {
            "text/plain": [
              "<Figure size 432x288 with 1 Axes>"
            ],
            "image/png": "[encoded data removed]"
          },
          "metadata": {
            "needs_background": "light"
          }
        }
      ]
    },
    {
      "cell_type": "code",
      "source": [
        " max(history.history['val_accuracy'])"
      ],
      "metadata": {
        "id": "-r852mCIhhFJ",
        "colab": {
          "base_uri": "https://localhost:8080/"
        },
        "outputId": "6a82cf7a-04bd-4572-c9f6-844ac451d375"
      },
      "id": "-r852mCIhhFJ",
      "execution_count": null,
      "outputs": [
        {
          "output_type": "execute_result",
          "data": {
            "text/plain": [
              "0.9615314602851868"
            ]
          },
          "metadata": {},
          "execution_count": 56
        }
      ]
    },
    {
      "cell_type": "markdown",
      "source": [
        "# Some improvement compared to the previous version without residual connections. \n",
        "# Another attempt "
      ],
      "metadata": {
        "id": "B18jweUc9gqi"
      },
      "id": "B18jweUc9gqi"
    },
    {
      "cell_type": "code",
      "source": [
        "model = build_model(32, 2, 5)"
      ],
      "metadata": {
        "id": "ihID_6gbd3d9"
      },
      "id": "ihID_6gbd3d9",
      "execution_count": null,
      "outputs": []
    },
    {
      "cell_type": "code",
      "source": [
        "history = model.fit(\n",
        "    ds[0],\n",
        "    epochs=50,\n",
        "    verbose=\"auto\",\n",
        "    callbacks=callbacks,\n",
        "    validation_data=ds[1]\n",
        ")"
      ],
      "metadata": {
        "colab": {
          "base_uri": "https://localhost:8080/"
        },
        "id": "P9dZlAIBd8uG",
        "outputId": "64ba0a04-8786-4713-963c-5dde7f8b10b7"
      },
      "id": "P9dZlAIBd8uG",
      "execution_count": null,
      "outputs": [
        {
          "output_type": "stream",
          "name": "stdout",
          "text": [
            "Epoch 1/50\n",
            "517/517 [==============================] - 52s 98ms/step - loss: 0.2592 - accuracy: 0.8919 - val_loss: 0.1536 - val_accuracy: 0.9519\n",
            "Epoch 2/50\n",
            "517/517 [==============================] - 52s 101ms/step - loss: 0.1649 - accuracy: 0.9487 - val_loss: 0.1557 - val_accuracy: 0.9512\n",
            "Epoch 3/50\n",
            "517/517 [==============================] - 52s 100ms/step - loss: 0.1551 - accuracy: 0.9520 - val_loss: 0.1478 - val_accuracy: 0.9546\n",
            "Epoch 4/50\n",
            "517/517 [==============================] - 52s 100ms/step - loss: 0.1526 - accuracy: 0.9522 - val_loss: 0.1473 - val_accuracy: 0.9546\n",
            "Epoch 5/50\n",
            "517/517 [==============================] - 52s 100ms/step - loss: 0.1441 - accuracy: 0.9558 - val_loss: 0.1311 - val_accuracy: 0.9563\n",
            "Epoch 6/50\n",
            "517/517 [==============================] - 52s 100ms/step - loss: 0.1427 - accuracy: 0.9557 - val_loss: 0.1325 - val_accuracy: 0.9579\n",
            "Epoch 7/50\n",
            "517/517 [==============================] - 52s 101ms/step - loss: 0.1425 - accuracy: 0.9562 - val_loss: 0.1283 - val_accuracy: 0.9572\n",
            "Epoch 8/50\n",
            "517/517 [==============================] - 52s 100ms/step - loss: 0.1394 - accuracy: 0.9563 - val_loss: 0.1282 - val_accuracy: 0.9584\n",
            "Epoch 9/50\n",
            "517/517 [==============================] - 52s 100ms/step - loss: 0.1359 - accuracy: 0.9584 - val_loss: 0.1250 - val_accuracy: 0.9575\n",
            "Epoch 10/50\n",
            "517/517 [==============================] - 52s 100ms/step - loss: 0.1329 - accuracy: 0.9585 - val_loss: 0.1296 - val_accuracy: 0.9528\n",
            "Epoch 11/50\n",
            "517/517 [==============================] - 52s 100ms/step - loss: 0.1306 - accuracy: 0.9583 - val_loss: 0.1294 - val_accuracy: 0.9574\n",
            "Epoch 12/50\n",
            "517/517 [==============================] - 52s 100ms/step - loss: 0.1274 - accuracy: 0.9597 - val_loss: 0.1200 - val_accuracy: 0.9617\n",
            "Epoch 13/50\n",
            "517/517 [==============================] - 52s 101ms/step - loss: 0.1283 - accuracy: 0.9598 - val_loss: 0.1193 - val_accuracy: 0.9623\n",
            "Epoch 14/50\n",
            "517/517 [==============================] - 52s 100ms/step - loss: 0.1253 - accuracy: 0.9600 - val_loss: 0.1184 - val_accuracy: 0.9621\n",
            "Epoch 15/50\n",
            "517/517 [==============================] - 51s 99ms/step - loss: 0.1217 - accuracy: 0.9611 - val_loss: 0.1187 - val_accuracy: 0.9608\n",
            "Epoch 16/50\n",
            "517/517 [==============================] - 52s 100ms/step - loss: 0.1206 - accuracy: 0.9611 - val_loss: 0.1203 - val_accuracy: 0.9610\n",
            "Epoch 17/50\n",
            "517/517 [==============================] - 51s 99ms/step - loss: 0.1195 - accuracy: 0.9615 - val_loss: 0.1191 - val_accuracy: 0.9624\n",
            "Epoch 18/50\n",
            "517/517 [==============================] - 52s 100ms/step - loss: 0.1185 - accuracy: 0.9617 - val_loss: 0.1155 - val_accuracy: 0.9632\n",
            "Epoch 19/50\n",
            "517/517 [==============================] - 52s 100ms/step - loss: 0.1166 - accuracy: 0.9626 - val_loss: 0.1175 - val_accuracy: 0.9637\n",
            "Epoch 20/50\n",
            "517/517 [==============================] - 52s 100ms/step - loss: 0.1135 - accuracy: 0.9625 - val_loss: 0.1111 - val_accuracy: 0.9623\n",
            "Epoch 21/50\n",
            "517/517 [==============================] - 52s 100ms/step - loss: 0.1141 - accuracy: 0.9635 - val_loss: 0.1150 - val_accuracy: 0.9615\n",
            "Epoch 22/50\n",
            "517/517 [==============================] - 52s 100ms/step - loss: 0.1122 - accuracy: 0.9638 - val_loss: 0.1174 - val_accuracy: 0.9603\n",
            "Epoch 23/50\n",
            "517/517 [==============================] - 52s 100ms/step - loss: 0.1079 - accuracy: 0.9640 - val_loss: 0.1153 - val_accuracy: 0.9601\n",
            "Epoch 24/50\n",
            "517/517 [==============================] - ETA: 0s - loss: 0.1063 - accuracy: 0.9653Restoring model weights from the end of the best epoch: 19.\n",
            "517/517 [==============================] - 52s 100ms/step - loss: 0.1063 - accuracy: 0.9653 - val_loss: 0.1157 - val_accuracy: 0.9619\n",
            "Epoch 24: early stopping\n"
          ]
        }
      ]
    },
    {
      "cell_type": "code",
      "source": [
        "pd.DataFrame({'accuracy': history.history['accuracy'][3:],\n",
        "              'val_accuracy': history.history['val_accuracy'][3:]}).plot.line();"
      ],
      "metadata": {
        "colab": {
          "base_uri": "https://localhost:8080/",
          "height": 265
        },
        "id": "TDuyipWDeCRu",
        "outputId": "2a75d4ea-8694-4898-b0ae-9770ed32fe43"
      },
      "id": "TDuyipWDeCRu",
      "execution_count": null,
      "outputs": [
        {
          "output_type": "display_data",
          "data": {
            "text/plain": [
              "<Figure size 432x288 with 1 Axes>"
            ],
            "image/png": "[encoded data removed]"
          },
          "metadata": {
            "needs_background": "light"
          }
        }
      ]
    },
    {
      "cell_type": "code",
      "source": [
        "max(history.history['val_accuracy'])"
      ],
      "metadata": {
        "colab": {
          "base_uri": "https://localhost:8080/"
        },
        "id": "Re1bRgOAeCBN",
        "outputId": "83bea398-5b62-41ce-fc9e-be52e4ed1f25"
      },
      "id": "Re1bRgOAeCBN",
      "execution_count": null,
      "outputs": [
        {
          "output_type": "execute_result",
          "data": {
            "text/plain": [
              "0.9637089371681213"
            ]
          },
          "metadata": {},
          "execution_count": 61
        }
      ]
    },
    {
      "cell_type": "code",
      "source": [
        "model.evaluate(ds[1])"
      ],
      "metadata": {
        "colab": {
          "base_uri": "https://localhost:8080/"
        },
        "id": "L2NVLGZijLb1",
        "outputId": "baaf738c-d9a1-49a1-ce83-0feae7e022ef"
      },
      "id": "L2NVLGZijLb1",
      "execution_count": null,
      "outputs": [
        {
          "output_type": "stream",
          "name": "stdout",
          "text": [
            "173/173 [==============================] - 5s 30ms/step - loss: 0.1175 - accuracy: 0.9637\n"
          ]
        },
        {
          "output_type": "execute_result",
          "data": {
            "text/plain": [
              "[0.11753672361373901, 0.9637089371681213]"
            ]
          },
          "metadata": {},
          "execution_count": 62
        }
      ]
    },
    {
      "cell_type": "markdown",
      "source": [
        "# Conclusions from this stage\n",
        "\n",
        "The results are encouraging\n",
        "The results are encouraging, almost 1% better than without residual connections so I will try Bayesian optimization in the following notebook."
      ],
      "metadata": {
        "id": "5YjEvvIajK8F"
      },
      "id": "5YjEvvIajK8F"
    },
    {
      "cell_type": "markdown",
      "source": [
        "Automatic optimization with the Bayesian tuner did not finish due to Google Colabe usage limits but demonstated that larger numbers of filters and residual blocks worked better. A few more attempts at manual optimization"
      ],
      "metadata": {
        "id": "bUxFbZ4-PScl"
      },
      "id": "bUxFbZ4-PScl"
    },
    {
      "cell_type": "markdown",
      "source": [
        "Completing the cycle that did not finish during the automatic tuning"
      ],
      "metadata": {
        "id": "a2zYxlF1Pn-M"
      },
      "id": "a2zYxlF1Pn-M"
    },
    {
      "cell_type": "code",
      "source": [
        "model = build_model(16, 3, 6)"
      ],
      "metadata": {
        "id": "l6oWr1hBPkta"
      },
      "execution_count": null,
      "outputs": [],
      "id": "l6oWr1hBPkta"
    },
    {
      "cell_type": "code",
      "source": [
        "history = model.fit(\n",
        "    ds[0],\n",
        "    epochs=50,\n",
        "    verbose=\"auto\",\n",
        "    callbacks=callbacks,\n",
        "    validation_data=ds[1]\n",
        ")"
      ],
      "metadata": {
        "colab": {
          "base_uri": "https://localhost:8080/"
        },
        "outputId": "f8acbbcb-d7ad-4b91-d56b-c63723af14bd",
        "id": "ygr-oqRkPktb"
      },
      "execution_count": null,
      "outputs": [
        {
          "output_type": "stream",
          "name": "stdout",
          "text": [
            "Epoch 1/50\n",
            "517/517 [==============================] - 39s 75ms/step - loss: 0.6931 - accuracy: 0.5044 - val_loss: 0.6759 - val_accuracy: 0.5003\n",
            "Epoch 2/50\n",
            "517/517 [==============================] - 39s 75ms/step - loss: 0.2619 - accuracy: 0.8903 - val_loss: 0.1458 - val_accuracy: 0.9577\n",
            "Epoch 3/50\n",
            "517/517 [==============================] - 38s 74ms/step - loss: 0.2005 - accuracy: 0.9519 - val_loss: 0.1433 - val_accuracy: 0.9572\n",
            "Epoch 4/50\n",
            "517/517 [==============================] - 38s 74ms/step - loss: 0.1846 - accuracy: 0.9542 - val_loss: 0.1326 - val_accuracy: 0.9574\n",
            "Epoch 5/50\n",
            "517/517 [==============================] - 40s 76ms/step - loss: 0.1758 - accuracy: 0.9540 - val_loss: 0.1465 - val_accuracy: 0.9521\n",
            "Epoch 6/50\n",
            "517/517 [==============================] - 39s 75ms/step - loss: 0.1683 - accuracy: 0.9557 - val_loss: 0.1340 - val_accuracy: 0.9539\n",
            "Epoch 7/50\n",
            "516/517 [============================>.] - ETA: 0s - loss: 0.1642 - accuracy: 0.9553Restoring model weights from the end of the best epoch: 2.\n",
            "517/517 [==============================] - 40s 76ms/step - loss: 0.1641 - accuracy: 0.9553 - val_loss: 0.1350 - val_accuracy: 0.9537\n",
            "Epoch 7: early stopping\n"
          ]
        }
      ],
      "id": "ygr-oqRkPktb"
    },
    {
      "cell_type": "code",
      "source": [
        "pd.DataFrame({'accuracy': history.history['accuracy'][3:],\n",
        "              'val_accuracy': history.history['val_accuracy'][3:]}).plot.line();"
      ],
      "metadata": {
        "colab": {
          "base_uri": "https://localhost:8080/",
          "height": 265
        },
        "outputId": "602478e0-7d19-420e-d0d0-e765e966b766",
        "id": "5bwDhG0aPktc"
      },
      "execution_count": null,
      "outputs": [
        {
          "output_type": "display_data",
          "data": {
            "text/plain": [
              "<Figure size 432x288 with 1 Axes>"
            ],
            "image/png": "[encoded data removed]"
          },
          "metadata": {
            "needs_background": "light"
          }
        }
      ],
      "id": "5bwDhG0aPktc"
    },
    {
      "cell_type": "code",
      "source": [
        "max(history.history['val_accuracy'])"
      ],
      "metadata": {
        "id": "IJyVhbjLPktd",
        "colab": {
          "base_uri": "https://localhost:8080/"
        },
        "outputId": "da19dbd6-52b0-4c8a-a430-9811d1aa9ba0"
      },
      "execution_count": null,
      "outputs": [
        {
          "output_type": "execute_result",
          "data": {
            "text/plain": [
              "0.957720935344696"
            ]
          },
          "metadata": {},
          "execution_count": 12
        }
      ],
      "id": "IJyVhbjLPktd"
    },
    {
      "cell_type": "code",
      "source": [
        "model = build_model(64, 3, 7)"
      ],
      "metadata": {
        "id": "sgeSWpjNPzOB"
      },
      "execution_count": null,
      "outputs": [],
      "id": "sgeSWpjNPzOB"
    },
    {
      "cell_type": "code",
      "source": [
        "history = model.fit(\n",
        "    ds[0],\n",
        "    epochs=50,\n",
        "    verbose=\"auto\",\n",
        "    callbacks=callbacks,\n",
        "    validation_data=ds[1]\n",
        ")"
      ],
      "metadata": {
        "colab": {
          "base_uri": "https://localhost:8080/"
        },
        "outputId": "12241851-4fbc-425e-c96b-6c9ccb7b9fb7",
        "id": "xbzXhbw9PzOC"
      },
      "execution_count": null,
      "outputs": [
        {
          "output_type": "stream",
          "name": "stdout",
          "text": [
            "Epoch 1/50\n",
            "517/517 [==============================] - 383s 717ms/step - loss: 0.4505 - accuracy: 0.7396 - val_loss: 0.1628 - val_accuracy: 0.9483\n",
            "Epoch 2/50\n",
            "517/517 [==============================] - 163s 316ms/step - loss: 0.1552 - accuracy: 0.9523 - val_loss: 0.1981 - val_accuracy: 0.9379\n",
            "Epoch 3/50\n",
            "517/517 [==============================] - 163s 315ms/step - loss: 0.1467 - accuracy: 0.9543 - val_loss: 0.1982 - val_accuracy: 0.9454\n",
            "Epoch 4/50\n",
            "517/517 [==============================] - 162s 314ms/step - loss: 0.1408 - accuracy: 0.9566 - val_loss: 0.1622 - val_accuracy: 0.9508\n",
            "Epoch 5/50\n",
            "517/517 [==============================] - 162s 313ms/step - loss: 0.1367 - accuracy: 0.9570 - val_loss: 0.1416 - val_accuracy: 0.9557\n",
            "Epoch 6/50\n",
            "517/517 [==============================] - 162s 313ms/step - loss: 0.1341 - accuracy: 0.9582 - val_loss: 0.1622 - val_accuracy: 0.9483\n",
            "Epoch 7/50\n",
            "517/517 [==============================] - 163s 314ms/step - loss: 0.1326 - accuracy: 0.9589 - val_loss: 0.1300 - val_accuracy: 0.9619\n",
            "Epoch 8/50\n",
            "517/517 [==============================] - 163s 314ms/step - loss: 0.1313 - accuracy: 0.9586 - val_loss: 0.1242 - val_accuracy: 0.9606\n",
            "Epoch 9/50\n",
            "517/517 [==============================] - 162s 314ms/step - loss: 0.1247 - accuracy: 0.9606 - val_loss: 0.1313 - val_accuracy: 0.9581\n",
            "Epoch 10/50\n",
            "517/517 [==============================] - 162s 313ms/step - loss: 0.1247 - accuracy: 0.9601 - val_loss: 0.1214 - val_accuracy: 0.9579\n",
            "Epoch 11/50\n",
            "517/517 [==============================] - 162s 313ms/step - loss: 0.1186 - accuracy: 0.9622 - val_loss: 0.1406 - val_accuracy: 0.9565\n",
            "Epoch 12/50\n",
            "517/517 [==============================] - ETA: 0s - loss: 0.1153 - accuracy: 0.9631Restoring model weights from the end of the best epoch: 7.\n",
            "517/517 [==============================] - 162s 313ms/step - loss: 0.1153 - accuracy: 0.9631 - val_loss: 0.1218 - val_accuracy: 0.9588\n",
            "Epoch 12: early stopping\n"
          ]
        }
      ],
      "id": "xbzXhbw9PzOC"
    },
    {
      "cell_type": "code",
      "source": [
        "pd.DataFrame({'accuracy': history.history['accuracy'][3:],\n",
        "              'val_accuracy': history.history['val_accuracy'][3:]}).plot.line();"
      ],
      "metadata": {
        "colab": {
          "base_uri": "https://localhost:8080/",
          "height": 265
        },
        "outputId": "2a75d4ea-8694-4898-b0ae-9770ed32fe43",
        "id": "o9ELFNn2PzOD"
      },
      "execution_count": null,
      "outputs": [
        {
          "output_type": "display_data",
          "data": {
            "text/plain": [
              "<Figure size 432x288 with 1 Axes>"
            ],
            "image/png": "[encoded data removed]"
          },
          "metadata": {
            "needs_background": "light"
          }
        }
      ],
      "id": "o9ELFNn2PzOD"
    },
    {
      "cell_type": "code",
      "source": [
        "max(history.history['val_accuracy'])"
      ],
      "metadata": {
        "colab": {
          "base_uri": "https://localhost:8080/"
        },
        "outputId": "83bea398-5b62-41ce-fc9e-be52e4ed1f25",
        "id": "vREfewKnPzOD"
      },
      "execution_count": null,
      "outputs": [
        {
          "output_type": "execute_result",
          "data": {
            "text/plain": [
              "0.9637089371681213"
            ]
          },
          "metadata": {},
          "execution_count": 61
        }
      ],
      "id": "vREfewKnPzOD"
    },
    {
      "cell_type": "markdown",
      "source": [
        "No improvement from an added residual block. Increasing the kernel size"
      ],
      "metadata": {
        "id": "m3Bu4vPn6B7l"
      },
      "id": "m3Bu4vPn6B7l"
    },
    {
      "cell_type": "code",
      "source": [
        "model = build_model(64, 4, 6)"
      ],
      "metadata": {
        "id": "quESPUJr6Pnj"
      },
      "execution_count": null,
      "outputs": [],
      "id": "quESPUJr6Pnj"
    },
    {
      "cell_type": "code",
      "source": [
        "history = model.fit(\n",
        "    ds[0],\n",
        "    epochs=50,\n",
        "    verbose=\"auto\",\n",
        "    callbacks=callbacks,\n",
        "    validation_data=ds[1]\n",
        ")"
      ],
      "metadata": {
        "colab": {
          "base_uri": "https://localhost:8080/"
        },
        "outputId": "c7cb217e-a855-49a5-e7f1-ecb9fa5752b1",
        "id": "SAMRXkLp6Pnl"
      },
      "execution_count": null,
      "outputs": [
        {
          "output_type": "stream",
          "name": "stdout",
          "text": [
            "Epoch 1/50\n",
            "517/517 [==============================] - 435s 838ms/step - loss: 0.3937 - accuracy: 0.7837 - val_loss: 0.1834 - val_accuracy: 0.9398\n",
            "Epoch 2/50\n",
            "517/517 [==============================] - 221s 427ms/step - loss: 0.1477 - accuracy: 0.9562 - val_loss: 0.1843 - val_accuracy: 0.9412\n",
            "Epoch 3/50\n",
            "517/517 [==============================] - 220s 426ms/step - loss: 0.1430 - accuracy: 0.9570 - val_loss: 0.1367 - val_accuracy: 0.9532\n",
            "Epoch 4/50\n",
            "517/517 [==============================] - 220s 426ms/step - loss: 0.1375 - accuracy: 0.9578 - val_loss: 0.1384 - val_accuracy: 0.9574\n",
            "Epoch 5/50\n",
            "517/517 [==============================] - 220s 425ms/step - loss: 0.1360 - accuracy: 0.9582 - val_loss: 0.1411 - val_accuracy: 0.9548\n",
            "Epoch 6/50\n",
            "517/517 [==============================] - 220s 425ms/step - loss: 0.1289 - accuracy: 0.9591 - val_loss: 0.1205 - val_accuracy: 0.9606\n",
            "Epoch 7/50\n",
            "517/517 [==============================] - 220s 425ms/step - loss: 0.1270 - accuracy: 0.9596 - val_loss: 0.1278 - val_accuracy: 0.9599\n",
            "Epoch 8/50\n",
            "517/517 [==============================] - 220s 425ms/step - loss: 0.1292 - accuracy: 0.9611 - val_loss: 0.1165 - val_accuracy: 0.9630\n",
            "Epoch 9/50\n",
            "517/517 [==============================] - 219s 425ms/step - loss: 0.1241 - accuracy: 0.9610 - val_loss: 0.1166 - val_accuracy: 0.9614\n",
            "Epoch 10/50\n",
            "517/517 [==============================] - 220s 425ms/step - loss: 0.1224 - accuracy: 0.9612 - val_loss: 0.1197 - val_accuracy: 0.9575\n",
            "Epoch 11/50\n",
            "517/517 [==============================] - 219s 424ms/step - loss: 0.1275 - accuracy: 0.9589 - val_loss: 0.1152 - val_accuracy: 0.9614\n",
            "Epoch 12/50\n",
            "517/517 [==============================] - 220s 425ms/step - loss: 0.1186 - accuracy: 0.9629 - val_loss: 0.1127 - val_accuracy: 0.9624\n",
            "Epoch 13/50\n",
            "517/517 [==============================] - 219s 425ms/step - loss: 0.1148 - accuracy: 0.9636 - val_loss: 0.1100 - val_accuracy: 0.9637\n",
            "Epoch 14/50\n",
            "517/517 [==============================] - 220s 425ms/step - loss: 0.1118 - accuracy: 0.9643 - val_loss: 0.1133 - val_accuracy: 0.9615\n",
            "Epoch 15/50\n",
            "517/517 [==============================] - 219s 423ms/step - loss: 0.1111 - accuracy: 0.9637 - val_loss: 0.1077 - val_accuracy: 0.9650\n",
            "Epoch 16/50\n",
            "517/517 [==============================] - 219s 424ms/step - loss: 0.1050 - accuracy: 0.9656 - val_loss: 0.1108 - val_accuracy: 0.9621\n",
            "Epoch 17/50\n",
            "517/517 [==============================] - 219s 424ms/step - loss: 0.1040 - accuracy: 0.9650 - val_loss: 0.1298 - val_accuracy: 0.9579\n",
            "Epoch 18/50\n",
            "517/517 [==============================] - 219s 423ms/step - loss: 0.1030 - accuracy: 0.9653 - val_loss: 0.1083 - val_accuracy: 0.9652\n",
            "Epoch 19/50\n",
            "517/517 [==============================] - 219s 424ms/step - loss: 0.1074 - accuracy: 0.9644 - val_loss: 0.1175 - val_accuracy: 0.9624\n",
            "Epoch 20/50\n",
            "517/517 [==============================] - 219s 424ms/step - loss: 0.1013 - accuracy: 0.9658 - val_loss: 0.1170 - val_accuracy: 0.9635\n",
            "Epoch 21/50\n",
            "517/517 [==============================] - 220s 425ms/step - loss: 0.0985 - accuracy: 0.9666 - val_loss: 0.1185 - val_accuracy: 0.9632\n",
            "Epoch 22/50\n",
            "517/517 [==============================] - 219s 424ms/step - loss: 0.0950 - accuracy: 0.9675 - val_loss: 0.1184 - val_accuracy: 0.9606\n",
            "Epoch 23/50\n",
            "517/517 [==============================] - ETA: 0s - loss: 0.0884 - accuracy: 0.9693Restoring model weights from the end of the best epoch: 18.\n",
            "517/517 [==============================] - 219s 424ms/step - loss: 0.0884 - accuracy: 0.9693 - val_loss: 0.1159 - val_accuracy: 0.9619\n",
            "Epoch 23: early stopping\n"
          ]
        }
      ],
      "id": "SAMRXkLp6Pnl"
    },
    {
      "cell_type": "code",
      "source": [
        "pd.DataFrame({'accuracy': history.history['accuracy'][3:],\n",
        "              'val_accuracy': history.history['val_accuracy'][3:]}).plot.line();"
      ],
      "metadata": {
        "colab": {
          "base_uri": "https://localhost:8080/",
          "height": 269
        },
        "outputId": "0ab7f016-797b-429c-d95c-9d060ac0d2f2",
        "id": "9eJKqTLb6Pnm"
      },
      "execution_count": null,
      "outputs": [
        {
          "output_type": "display_data",
          "data": {
            "text/plain": [
              "<Figure size 432x288 with 1 Axes>"
            ],
            "image/png": "[encoded data removed]"
          },
          "metadata": {
            "needs_background": "light"
          }
        }
      ],
      "id": "9eJKqTLb6Pnm"
    },
    {
      "cell_type": "code",
      "source": [
        "max(history.history['val_accuracy'])"
      ],
      "metadata": {
        "colab": {
          "base_uri": "https://localhost:8080/"
        },
        "outputId": "d0f2f43a-13f4-45a8-b9e1-da9446e62952",
        "id": "ALOTAlYM6Pnm"
      },
      "execution_count": null,
      "outputs": [
        {
          "output_type": "execute_result",
          "data": {
            "text/plain": [
              "0.965160608291626"
            ]
          },
          "metadata": {},
          "execution_count": 16
        }
      ],
      "id": "ALOTAlYM6Pnm"
    },
    {
      "cell_type": "markdown",
      "source": [
        "This was my second attempt at these parameters on another day. The first attempt achieved the best score on the first day, when other parameter sets were tried (0.9661)"
      ],
      "metadata": {
        "id": "yryOLTx0BUn0"
      },
      "id": "yryOLTx0BUn0"
    },
    {
      "cell_type": "markdown",
      "source": [],
      "metadata": {
        "id": "8_GHx9VhbqHc"
      },
      "id": "8_GHx9VhbqHc"
    },
    {
      "cell_type": "code",
      "source": [
        "model = build_model(16, 5, 6)"
      ],
      "metadata": {
        "id": "hSCIr6hWbqlD"
      },
      "execution_count": null,
      "outputs": [],
      "id": "hSCIr6hWbqlD"
    },
    {
      "cell_type": "code",
      "source": [
        "history = model.fit(\n",
        "    ds[0],\n",
        "    epochs=50,\n",
        "    verbose=\"auto\",\n",
        "    callbacks=callbacks,\n",
        "    validation_data=ds[1]\n",
        ")"
      ],
      "metadata": {
        "colab": {
          "base_uri": "https://localhost:8080/"
        },
        "outputId": "c6df11f1-d5a8-459a-c535-82bd28001734",
        "id": "2cGXeEhDbqlE"
      },
      "execution_count": null,
      "outputs": [
        {
          "output_type": "stream",
          "name": "stdout",
          "text": [
            "Epoch 1/50\n",
            "517/517 [==============================] - 134s 256ms/step - loss: 0.2740 - accuracy: 0.8706 - val_loss: 0.1516 - val_accuracy: 0.9534\n",
            "Epoch 2/50\n",
            "517/517 [==============================] - 48s 92ms/step - loss: 0.1537 - accuracy: 0.9554 - val_loss: 0.1462 - val_accuracy: 0.9545\n",
            "Epoch 3/50\n",
            "517/517 [==============================] - 47s 90ms/step - loss: 0.1471 - accuracy: 0.9559 - val_loss: 0.1401 - val_accuracy: 0.9554\n",
            "Epoch 4/50\n",
            "517/517 [==============================] - 48s 92ms/step - loss: 0.1417 - accuracy: 0.9568 - val_loss: 0.1310 - val_accuracy: 0.9592\n",
            "Epoch 5/50\n",
            "517/517 [==============================] - 47s 90ms/step - loss: 0.1395 - accuracy: 0.9574 - val_loss: 0.1336 - val_accuracy: 0.9570\n",
            "Epoch 6/50\n",
            "517/517 [==============================] - 48s 93ms/step - loss: 0.1372 - accuracy: 0.9586 - val_loss: 0.1241 - val_accuracy: 0.9606\n",
            "Epoch 7/50\n",
            "517/517 [==============================] - 47s 90ms/step - loss: 0.1343 - accuracy: 0.9592 - val_loss: 0.1183 - val_accuracy: 0.9612\n",
            "Epoch 8/50\n",
            "517/517 [==============================] - 47s 91ms/step - loss: 0.1342 - accuracy: 0.9588 - val_loss: 0.1175 - val_accuracy: 0.9612\n",
            "Epoch 9/50\n",
            "517/517 [==============================] - 47s 90ms/step - loss: 0.1318 - accuracy: 0.9595 - val_loss: 0.1232 - val_accuracy: 0.9555\n",
            "Epoch 10/50\n",
            "517/517 [==============================] - 48s 93ms/step - loss: 0.1297 - accuracy: 0.9607 - val_loss: 0.1174 - val_accuracy: 0.9594\n",
            "Epoch 11/50\n",
            "517/517 [==============================] - 47s 90ms/step - loss: 0.1271 - accuracy: 0.9612 - val_loss: 0.1148 - val_accuracy: 0.9630\n",
            "Epoch 12/50\n",
            "517/517 [==============================] - 53s 102ms/step - loss: 0.1242 - accuracy: 0.9609 - val_loss: 0.1222 - val_accuracy: 0.9592\n",
            "Epoch 13/50\n",
            "517/517 [==============================] - 48s 92ms/step - loss: 0.1214 - accuracy: 0.9629 - val_loss: 0.1137 - val_accuracy: 0.9617\n",
            "Epoch 14/50\n",
            "517/517 [==============================] - 47s 91ms/step - loss: 0.1195 - accuracy: 0.9626 - val_loss: 0.1185 - val_accuracy: 0.9624\n",
            "Epoch 15/50\n",
            "517/517 [==============================] - 48s 92ms/step - loss: 0.1170 - accuracy: 0.9632 - val_loss: 0.1174 - val_accuracy: 0.9606\n",
            "Epoch 16/50\n",
            "517/517 [==============================] - 47s 90ms/step - loss: 0.1190 - accuracy: 0.9629 - val_loss: 0.1117 - val_accuracy: 0.9639\n",
            "Epoch 17/50\n",
            "517/517 [==============================] - 48s 92ms/step - loss: 0.1116 - accuracy: 0.9640 - val_loss: 0.1165 - val_accuracy: 0.9595\n",
            "Epoch 18/50\n",
            "517/517 [==============================] - 47s 90ms/step - loss: 0.1103 - accuracy: 0.9628 - val_loss: 0.1138 - val_accuracy: 0.9619\n",
            "Epoch 19/50\n",
            "517/517 [==============================] - 48s 92ms/step - loss: 0.1143 - accuracy: 0.9643 - val_loss: 0.1130 - val_accuracy: 0.9657\n",
            "Epoch 20/50\n",
            "517/517 [==============================] - 47s 90ms/step - loss: 0.1094 - accuracy: 0.9645 - val_loss: 0.1130 - val_accuracy: 0.9615\n",
            "Epoch 21/50\n",
            "517/517 [==============================] - 48s 92ms/step - loss: 0.1084 - accuracy: 0.9653 - val_loss: 0.1121 - val_accuracy: 0.9653\n",
            "Epoch 22/50\n",
            "517/517 [==============================] - 47s 90ms/step - loss: 0.1056 - accuracy: 0.9654 - val_loss: 0.1223 - val_accuracy: 0.9641\n",
            "Epoch 23/50\n",
            "517/517 [==============================] - 48s 93ms/step - loss: 0.1079 - accuracy: 0.9637 - val_loss: 0.1186 - val_accuracy: 0.9584\n",
            "Epoch 24/50\n",
            "517/517 [==============================] - ETA: 0s - loss: 0.1061 - accuracy: 0.9637Restoring model weights from the end of the best epoch: 19.\n",
            "517/517 [==============================] - 47s 90ms/step - loss: 0.1061 - accuracy: 0.9637 - val_loss: 0.1142 - val_accuracy: 0.9632\n",
            "Epoch 24: early stopping\n"
          ]
        }
      ],
      "id": "2cGXeEhDbqlE"
    },
    {
      "cell_type": "code",
      "source": [
        "pd.DataFrame({'accuracy': history.history['accuracy'][3:],\n",
        "              'val_accuracy': history.history['val_accuracy'][3:]}).plot.line();"
      ],
      "metadata": {
        "colab": {
          "base_uri": "https://localhost:8080/",
          "height": 265
        },
        "outputId": "66108b40-eab6-41bc-e29e-39fcb3b24c1e",
        "id": "kdNj3KxxbqlE"
      },
      "execution_count": null,
      "outputs": [
        {
          "output_type": "display_data",
          "data": {
            "text/plain": [
              "<Figure size 432x288 with 1 Axes>"
            ],
            "image/png": "[encoded data removed]"
          },
          "metadata": {
            "needs_background": "light"
          }
        }
      ],
      "id": "kdNj3KxxbqlE"
    },
    {
      "cell_type": "code",
      "source": [
        "max(history.history['val_accuracy'])"
      ],
      "metadata": {
        "colab": {
          "base_uri": "https://localhost:8080/"
        },
        "outputId": "302ec871-b5a1-4096-8ba7-1f2f7a0fb02a",
        "id": "wIgZD4anbqlF"
      },
      "execution_count": null,
      "outputs": [
        {
          "output_type": "execute_result",
          "data": {
            "text/plain": [
              "0.9657049775123596"
            ]
          },
          "metadata": {},
          "execution_count": 20
        }
      ],
      "id": "wIgZD4anbqlF"
    },
    {
      "cell_type": "code",
      "source": [
        "model = build_model(64, 5, 6)"
      ],
      "metadata": {
        "id": "Przn-GDWhDfJ"
      },
      "execution_count": null,
      "outputs": [],
      "id": "Przn-GDWhDfJ"
    },
    {
      "cell_type": "code",
      "source": [
        "history = model.fit(\n",
        "    ds[0],\n",
        "    epochs=50,\n",
        "    verbose=\"auto\",\n",
        "    callbacks=callbacks,\n",
        "    validation_data=ds[1]\n",
        ")"
      ],
      "metadata": {
        "colab": {
          "base_uri": "https://localhost:8080/"
        },
        "outputId": "39a962c2-f0db-455f-9626-1a82123cfcbf",
        "id": "A3bc3X7whDfN"
      },
      "execution_count": null,
      "outputs": [
        {
          "output_type": "stream",
          "name": "stdout",
          "text": [
            "Epoch 1/50\n",
            "517/517 [==============================] - 474s 914ms/step - loss: 0.2612 - accuracy: 0.8798 - val_loss: 0.1813 - val_accuracy: 0.9365\n",
            "Epoch 2/50\n",
            "517/517 [==============================] - 177s 343ms/step - loss: 0.1456 - accuracy: 0.9564 - val_loss: 0.1512 - val_accuracy: 0.9545\n",
            "Epoch 3/50\n",
            "517/517 [==============================] - 177s 342ms/step - loss: 0.1505 - accuracy: 0.9540 - val_loss: 0.1414 - val_accuracy: 0.9561\n",
            "Epoch 4/50\n",
            "517/517 [==============================] - 177s 342ms/step - loss: 0.1380 - accuracy: 0.9566 - val_loss: 0.1366 - val_accuracy: 0.9541\n",
            "Epoch 5/50\n",
            "517/517 [==============================] - 177s 342ms/step - loss: 0.1362 - accuracy: 0.9579 - val_loss: 0.1247 - val_accuracy: 0.9601\n",
            "Epoch 6/50\n",
            "517/517 [==============================] - 177s 342ms/step - loss: 0.1321 - accuracy: 0.9592 - val_loss: 0.1265 - val_accuracy: 0.9601\n",
            "Epoch 7/50\n",
            "517/517 [==============================] - 177s 342ms/step - loss: 0.1305 - accuracy: 0.9598 - val_loss: 0.1295 - val_accuracy: 0.9594\n",
            "Epoch 8/50\n",
            "517/517 [==============================] - 177s 342ms/step - loss: 0.1304 - accuracy: 0.9598 - val_loss: 0.1175 - val_accuracy: 0.9619\n",
            "Epoch 9/50\n",
            "517/517 [==============================] - 177s 342ms/step - loss: 0.1212 - accuracy: 0.9628 - val_loss: 0.1284 - val_accuracy: 0.9557\n",
            "Epoch 10/50\n",
            "517/517 [==============================] - 177s 342ms/step - loss: 0.1276 - accuracy: 0.9608 - val_loss: 0.1454 - val_accuracy: 0.9516\n",
            "Epoch 11/50\n",
            "517/517 [==============================] - 176s 341ms/step - loss: 0.1219 - accuracy: 0.9627 - val_loss: 0.1101 - val_accuracy: 0.9641\n",
            "Epoch 12/50\n",
            "517/517 [==============================] - 177s 341ms/step - loss: 0.1173 - accuracy: 0.9629 - val_loss: 0.1174 - val_accuracy: 0.9626\n",
            "Epoch 13/50\n",
            "517/517 [==============================] - 176s 341ms/step - loss: 0.1135 - accuracy: 0.9649 - val_loss: 0.1140 - val_accuracy: 0.9637\n",
            "Epoch 14/50\n",
            "517/517 [==============================] - 177s 342ms/step - loss: 0.1128 - accuracy: 0.9647 - val_loss: 0.1129 - val_accuracy: 0.9628\n",
            "Epoch 15/50\n",
            "517/517 [==============================] - 177s 341ms/step - loss: 0.1122 - accuracy: 0.9638 - val_loss: 0.1322 - val_accuracy: 0.9599\n",
            "Epoch 16/50\n",
            "517/517 [==============================] - ETA: 0s - loss: 0.1060 - accuracy: 0.9666Restoring model weights from the end of the best epoch: 11.\n",
            "517/517 [==============================] - 177s 342ms/step - loss: 0.1060 - accuracy: 0.9666 - val_loss: 0.1795 - val_accuracy: 0.9590\n",
            "Epoch 16: early stopping\n"
          ]
        }
      ],
      "id": "A3bc3X7whDfN"
    },
    {
      "cell_type": "code",
      "source": [
        "pd.DataFrame({'accuracy': history.history['accuracy'][3:],\n",
        "              'val_accuracy': history.history['val_accuracy'][3:]}).plot.line();"
      ],
      "metadata": {
        "colab": {
          "base_uri": "https://localhost:8080/",
          "height": 265
        },
        "outputId": "679b016e-1c5b-4c9b-dac6-4743b0a0f481",
        "id": "ykQxngqChDfN"
      },
      "execution_count": null,
      "outputs": [
        {
          "output_type": "display_data",
          "data": {
            "text/plain": [
              "<Figure size 432x288 with 1 Axes>"
            ],
            "image/png": "[encoded data removed]"
          },
          "metadata": {
            "needs_background": "light"
          }
        }
      ],
      "id": "ykQxngqChDfN"
    },
    {
      "cell_type": "code",
      "source": [
        "max(history.history['val_accuracy'])"
      ],
      "metadata": {
        "colab": {
          "base_uri": "https://localhost:8080/"
        },
        "outputId": "f8a3774d-fd34-4bb1-c7b9-6afac5087b66",
        "id": "92rD_-ushDfO"
      },
      "execution_count": null,
      "outputs": [
        {
          "output_type": "execute_result",
          "data": {
            "text/plain": [
              "0.9640718698501587"
            ]
          },
          "metadata": {},
          "execution_count": 26
        }
      ],
      "id": "92rD_-ushDfO"
    },
    {
      "cell_type": "markdown",
      "source": [
        "#Conclusion\n",
        "The best parameters are 64, 4, 6"
      ],
      "metadata": {
        "id": "O-aRbAoYtxdL"
      },
      "id": "O-aRbAoYtxdL"
    }
  ],
  "metadata": {
    "kernelspec": {
      "display_name": "Python 3 (ipykernel)",
      "language": "python",
      "name": "python3"
    },
    "language_info": {
      "codemirror_mode": {
        "name": "ipython",
        "version": 3
      },
      "file_extension": ".py",
      "mimetype": "text/x-python",
      "name": "python",
      "nbconvert_exporter": "python",
      "pygments_lexer": "ipython3",
      "version": "3.10.9"
    },
    "colab": {
      "provenance": [],
      "collapsed_sections": [
        "B18jweUc9gqi"
      ]
    },
    "accelerator": "GPU",
    "gpuClass": "standard"
  },
  "nbformat": 4,
  "nbformat_minor": 5
}