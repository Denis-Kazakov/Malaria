{
  "cells": [
    {
      "cell_type": "code",
      "execution_count": null,
      "id": "1f431690",
      "metadata": {
        "scrolled": true,
        "id": "1f431690"
      },
      "outputs": [],
      "source": [
        "import tensorflow as tf\n",
        "from tensorflow import keras\n",
        "import tensorflow_datasets as tfds\n",
        "import pandas as pd"
      ]
    },
    {
      "cell_type": "code",
      "execution_count": null,
      "id": "35511d2e",
      "metadata": {
        "colab": {
          "base_uri": "https://localhost:8080/"
        },
        "id": "35511d2e",
        "outputId": "3c299ce0-b2ea-407f-b0b8-a449cee6796e"
      },
      "outputs": [
        {
          "output_type": "stream",
          "name": "stdout",
          "text": [
            "Mounted at /content/gdrive\n"
          ]
        }
      ],
      "source": [
        "from google.colab import drive\n",
        "drive.mount('/content/gdrive')"
      ]
    },
    {
      "cell_type": "markdown",
      "id": "9e4d7998",
      "metadata": {
        "id": "9e4d7998"
      },
      "source": [
        "Loading train, validation and test sets"
      ]
    },
    {
      "cell_type": "code",
      "execution_count": null,
      "metadata": {
        "id": "4R0gNgH6HPRL"
      },
      "outputs": [],
      "source": [
        "ds = tfds.load('malaria', \n",
        "               split=('train[:60%]', 'train[60%:80%]', 'train[80%:]'), \n",
        "               shuffle_files=False,\n",
        "              data_dir='/content/gdrive/MyDrive/datasets/Malaria',\n",
        "               batch_size=32,\n",
        "              download=True,\n",
        "              as_supervised=True,\n",
        "              with_info=False)"
      ],
      "id": "4R0gNgH6HPRL"
    },
    {
      "cell_type": "markdown",
      "source": [
        "# Model optimization"
      ],
      "metadata": {
        "id": "ep3vZn0KcBJp"
      },
      "id": "ep3vZn0KcBJp"
    },
    {
      "cell_type": "code",
      "source": [],
      "metadata": {
        "id": "jyXdrGyzDL95"
      },
      "id": "jyXdrGyzDL95",
      "execution_count": null,
      "outputs": []
    },
    {
      "cell_type": "markdown",
      "source": [
        "# Manual optimization"
      ],
      "metadata": {
        "id": "jz74qt2V5Pns"
      },
      "id": "jz74qt2V5Pns"
    },
    {
      "cell_type": "code",
      "execution_count": null,
      "metadata": {
        "id": "9_sp1BIefTo5"
      },
      "outputs": [],
      "source": [
        "inputs = keras.Input(shape=(None, None, 3))\n",
        "x = keras.layers.Rescaling(scale=1.0 / 255)(inputs)\n",
        "kernel_size = 2\n",
        "x = keras.layers.Conv2D(\n",
        "    filters=256,\n",
        "    kernel_size=kernel_size,\n",
        "    strides=(1, 1),\n",
        "    padding=\"valid\",\n",
        "    activation='relu')(x)\n",
        "x = keras.layers.MaxPooling2D(\n",
        "    pool_size=(2, 2), \n",
        "    strides=None, \n",
        "    padding=\"valid\")(x)\n",
        "x = keras.layers.Conv2D(\n",
        "    filters=512,\n",
        "    kernel_size=kernel_size,\n",
        "    strides=(1, 1),\n",
        "    padding=\"valid\",\n",
        "    activation='relu')(x)\n",
        "x = keras.layers.MaxPooling2D(\n",
        "    pool_size=(2, 2), \n",
        "    strides=None, \n",
        "    padding=\"valid\")(x)\n",
        "x = keras.layers.Conv2D(\n",
        "    filters=1024,\n",
        "    kernel_size=kernel_size,\n",
        "    strides=(1, 1),\n",
        "    padding=\"valid\",\n",
        "    activation='relu')(x)\n",
        "x = keras.layers.GlobalMaxPooling2D()(x)\n",
        "x = keras.layers.Flatten()(x)\n",
        "x = keras.layers.Dense(units=1024,\n",
        "                        activation=\"relu\",\n",
        "                      kernel_regularizer=None)(x)\n",
        "x = keras.layers.Dropout(0.2)(x)\n",
        "outputs = keras.layers.Dense(1, activation=\"sigmoid\")(x)\n",
        "model = keras.Model(inputs=inputs, outputs=outputs)\n",
        "model.compile(optimizer='Adam',\n",
        "      loss='binary_crossentropy',\n",
        "      metrics=['accuracy'])"
      ],
      "id": "9_sp1BIefTo5"
    },
    {
      "cell_type": "code",
      "source": [
        "model.summary()"
      ],
      "metadata": {
        "id": "pEk61RyeIbyg",
        "colab": {
          "base_uri": "https://localhost:8080/"
        },
        "outputId": "158b3b88-a071-42bb-b62a-5ee37507267a"
      },
      "id": "pEk61RyeIbyg",
      "execution_count": null,
      "outputs": [
        {
          "output_type": "stream",
          "name": "stdout",
          "text": [
            "Model: \"model_2\"\n",
            "_________________________________________________________________\n",
            " Layer (type)                Output Shape              Param #   \n",
            "=================================================================\n",
            " input_3 (InputLayer)        [(None, None, None, 3)]   0         \n",
            "                                                                 \n",
            " rescaling_2 (Rescaling)     (None, None, None, 3)     0         \n",
            "                                                                 \n",
            " conv2d_5 (Conv2D)           (None, None, None, 256)   3328      \n",
            "                                                                 \n",
            " max_pooling2d_3 (MaxPooling  (None, None, None, 256)  0         \n",
            " 2D)                                                             \n",
            "                                                                 \n",
            " conv2d_6 (Conv2D)           (None, None, None, 512)   524800    \n",
            "                                                                 \n",
            " max_pooling2d_4 (MaxPooling  (None, None, None, 512)  0         \n",
            " 2D)                                                             \n",
            "                                                                 \n",
            " conv2d_7 (Conv2D)           (None, None, None, 1024)  2098176   \n",
            "                                                                 \n",
            " global_max_pooling2d_2 (Glo  (None, 1024)             0         \n",
            " balMaxPooling2D)                                                \n",
            "                                                                 \n",
            " flatten_2 (Flatten)         (None, 1024)              0         \n",
            "                                                                 \n",
            " dense_4 (Dense)             (None, 1024)              1049600   \n",
            "                                                                 \n",
            " dropout_2 (Dropout)         (None, 1024)              0         \n",
            "                                                                 \n",
            " dense_5 (Dense)             (None, 1)                 1025      \n",
            "                                                                 \n",
            "=================================================================\n",
            "Total params: 3,676,929\n",
            "Trainable params: 3,676,929\n",
            "Non-trainable params: 0\n",
            "_________________________________________________________________\n"
          ]
        }
      ]
    },
    {
      "cell_type": "code",
      "source": [
        "callbacks = [\n",
        "    keras.callbacks.EarlyStopping(\n",
        "        monitor=\"val_accuracy\",\n",
        "        min_delta=0,\n",
        "        patience=5,\n",
        "        verbose=1,\n",
        "        mode=\"max\",\n",
        "        baseline=None,\n",
        "        restore_best_weights=True),\n",
        "    keras.callbacks.ModelCheckpoint(\n",
        "        filepath='/content/gdrive/MyDrive/datasets/Malaria/checkpoints/model_{epoch}',\n",
        "        save_freq='epoch')\n",
        "    ]"
      ],
      "metadata": {
        "id": "XjE5fu1IKGlc"
      },
      "id": "XjE5fu1IKGlc",
      "execution_count": null,
      "outputs": []
    },
    {
      "cell_type": "code",
      "source": [
        "history = model.fit(\n",
        "    ds[0],\n",
        "    epochs=50,\n",
        "    verbose=\"auto\",\n",
        "    callbacks=callbacks,\n",
        "    validation_data=ds[1]\n",
        ")"
      ],
      "metadata": {
        "id": "0A1rRF72IdEc",
        "colab": {
          "base_uri": "https://localhost:8080/"
        },
        "outputId": "6e5a2aea-7522-4548-b773-ca89bee01ce8"
      },
      "id": "0A1rRF72IdEc",
      "execution_count": null,
      "outputs": [
        {
          "output_type": "stream",
          "name": "stdout",
          "text": [
            "Epoch 1/50\n",
            "517/517 [==============================] - ETA: 0s - loss: 0.3635 - accuracy: 0.7853"
          ]
        },
        {
          "output_type": "stream",
          "name": "stderr",
          "text": [
            "WARNING:absl:Found untraced functions such as _jit_compiled_convolution_op, _jit_compiled_convolution_op, _jit_compiled_convolution_op while saving (showing 3 of 3). These functions will not be directly callable after loading.\n"
          ]
        },
        {
          "output_type": "stream",
          "name": "stdout",
          "text": [
            "\b\b\b\b\b\b\b\b\b\b\b\b\b\b\b\b\b\b\b\b\b\b\b\b\b\b\b\b\b\b\b\b\b\b\b\b\b\b\b\b\b\b\b\b\b\b\b\b\b\b\b\b\b\b\b\b\b\b\b\b\b\b\b\b\b\b\b\b\b\b\b\b\b\b\b\b\b\b\b\b\b\b\b\b\r517/517 [==============================] - 720s 1s/step - loss: 0.3635 - accuracy: 0.7853 - val_loss: 0.1493 - val_accuracy: 0.9537\n",
            "Epoch 2/50\n",
            "517/517 [==============================] - ETA: 0s - loss: 0.1551 - accuracy: 0.9529"
          ]
        },
        {
          "output_type": "stream",
          "name": "stderr",
          "text": [
            "WARNING:absl:Found untraced functions such as _jit_compiled_convolution_op, _jit_compiled_convolution_op, _jit_compiled_convolution_op while saving (showing 3 of 3). These functions will not be directly callable after loading.\n"
          ]
        },
        {
          "output_type": "stream",
          "name": "stdout",
          "text": [
            "\b\b\b\b\b\b\b\b\b\b\b\b\b\b\b\b\b\b\b\b\b\b\b\b\b\b\b\b\b\b\b\b\b\b\b\b\b\b\b\b\b\b\b\b\b\b\b\b\b\b\b\b\b\b\b\b\b\b\b\b\b\b\b\b\b\b\b\b\b\b\b\b\b\b\b\b\b\b\b\b\b\b\b\b\r517/517 [==============================] - 310s 599ms/step - loss: 0.1551 - accuracy: 0.9529 - val_loss: 0.1574 - val_accuracy: 0.9476\n",
            "Epoch 3/50\n",
            "517/517 [==============================] - ETA: 0s - loss: 0.1492 - accuracy: 0.9543"
          ]
        },
        {
          "output_type": "stream",
          "name": "stderr",
          "text": [
            "WARNING:absl:Found untraced functions such as _jit_compiled_convolution_op, _jit_compiled_convolution_op, _jit_compiled_convolution_op while saving (showing 3 of 3). These functions will not be directly callable after loading.\n"
          ]
        },
        {
          "output_type": "stream",
          "name": "stdout",
          "text": [
            "\b\b\b\b\b\b\b\b\b\b\b\b\b\b\b\b\b\b\b\b\b\b\b\b\b\b\b\b\b\b\b\b\b\b\b\b\b\b\b\b\b\b\b\b\b\b\b\b\b\b\b\b\b\b\b\b\b\b\b\b\b\b\b\b\b\b\b\b\b\b\b\b\b\b\b\b\b\b\b\b\b\b\b\b\r517/517 [==============================] - 310s 599ms/step - loss: 0.1492 - accuracy: 0.9543 - val_loss: 0.1537 - val_accuracy: 0.9499\n",
            "Epoch 4/50\n",
            "517/517 [==============================] - ETA: 0s - loss: 0.1434 - accuracy: 0.9555"
          ]
        },
        {
          "output_type": "stream",
          "name": "stderr",
          "text": [
            "WARNING:absl:Found untraced functions such as _jit_compiled_convolution_op, _jit_compiled_convolution_op, _jit_compiled_convolution_op while saving (showing 3 of 3). These functions will not be directly callable after loading.\n"
          ]
        },
        {
          "output_type": "stream",
          "name": "stdout",
          "text": [
            "\b\b\b\b\b\b\b\b\b\b\b\b\b\b\b\b\b\b\b\b\b\b\b\b\b\b\b\b\b\b\b\b\b\b\b\b\b\b\b\b\b\b\b\b\b\b\b\b\b\b\b\b\b\b\b\b\b\b\b\b\b\b\b\b\b\b\b\b\b\b\b\b\b\b\b\b\b\b\b\b\b\b\b\b\r517/517 [==============================] - 309s 599ms/step - loss: 0.1434 - accuracy: 0.9555 - val_loss: 0.1535 - val_accuracy: 0.9486\n",
            "Epoch 5/50\n",
            "517/517 [==============================] - ETA: 0s - loss: 0.1414 - accuracy: 0.9565"
          ]
        },
        {
          "output_type": "stream",
          "name": "stderr",
          "text": [
            "WARNING:absl:Found untraced functions such as _jit_compiled_convolution_op, _jit_compiled_convolution_op, _jit_compiled_convolution_op while saving (showing 3 of 3). These functions will not be directly callable after loading.\n"
          ]
        },
        {
          "output_type": "stream",
          "name": "stdout",
          "text": [
            "\b\b\b\b\b\b\b\b\b\b\b\b\b\b\b\b\b\b\b\b\b\b\b\b\b\b\b\b\b\b\b\b\b\b\b\b\b\b\b\b\b\b\b\b\b\b\b\b\b\b\b\b\b\b\b\b\b\b\b\b\b\b\b\b\b\b\b\b\b\b\b\b\b\b\b\b\b\b\b\b\b\b\b\b\r517/517 [==============================] - 309s 598ms/step - loss: 0.1414 - accuracy: 0.9565 - val_loss: 0.1334 - val_accuracy: 0.9557\n",
            "Epoch 6/50\n",
            "517/517 [==============================] - ETA: 0s - loss: 0.1367 - accuracy: 0.9578"
          ]
        },
        {
          "output_type": "stream",
          "name": "stderr",
          "text": [
            "WARNING:absl:Found untraced functions such as _jit_compiled_convolution_op, _jit_compiled_convolution_op, _jit_compiled_convolution_op while saving (showing 3 of 3). These functions will not be directly callable after loading.\n"
          ]
        },
        {
          "output_type": "stream",
          "name": "stdout",
          "text": [
            "\b\b\b\b\b\b\b\b\b\b\b\b\b\b\b\b\b\b\b\b\b\b\b\b\b\b\b\b\b\b\b\b\b\b\b\b\b\b\b\b\b\b\b\b\b\b\b\b\b\b\b\b\b\b\b\b\b\b\b\b\b\b\b\b\b\b\b\b\b\b\b\b\b\b\b\b\b\b\b\b\b\b\b\b\r517/517 [==============================] - 310s 599ms/step - loss: 0.1367 - accuracy: 0.9578 - val_loss: 0.1350 - val_accuracy: 0.9545\n",
            "Epoch 7/50\n",
            "517/517 [==============================] - ETA: 0s - loss: 0.1338 - accuracy: 0.9581"
          ]
        },
        {
          "output_type": "stream",
          "name": "stderr",
          "text": [
            "WARNING:absl:Found untraced functions such as _jit_compiled_convolution_op, _jit_compiled_convolution_op, _jit_compiled_convolution_op while saving (showing 3 of 3). These functions will not be directly callable after loading.\n"
          ]
        },
        {
          "output_type": "stream",
          "name": "stdout",
          "text": [
            "\b\b\b\b\b\b\b\b\b\b\b\b\b\b\b\b\b\b\b\b\b\b\b\b\b\b\b\b\b\b\b\b\b\b\b\b\b\b\b\b\b\b\b\b\b\b\b\b\b\b\b\b\b\b\b\b\b\b\b\b\b\b\b\b\b\b\b\b\b\b\b\b\b\b\b\b\b\b\b\b\b\b\b\b\r517/517 [==============================] - 309s 598ms/step - loss: 0.1338 - accuracy: 0.9581 - val_loss: 0.1317 - val_accuracy: 0.9559\n",
            "Epoch 8/50\n",
            "517/517 [==============================] - ETA: 0s - loss: 0.1317 - accuracy: 0.9581"
          ]
        },
        {
          "output_type": "stream",
          "name": "stderr",
          "text": [
            "WARNING:absl:Found untraced functions such as _jit_compiled_convolution_op, _jit_compiled_convolution_op, _jit_compiled_convolution_op while saving (showing 3 of 3). These functions will not be directly callable after loading.\n"
          ]
        },
        {
          "output_type": "stream",
          "name": "stdout",
          "text": [
            "\b\b\b\b\b\b\b\b\b\b\b\b\b\b\b\b\b\b\b\b\b\b\b\b\b\b\b\b\b\b\b\b\b\b\b\b\b\b\b\b\b\b\b\b\b\b\b\b\b\b\b\b\b\b\b\b\b\b\b\b\b\b\b\b\b\b\b\b\b\b\b\b\b\b\b\b\b\b\b\b\b\b\b\b\r517/517 [==============================] - 309s 598ms/step - loss: 0.1317 - accuracy: 0.9581 - val_loss: 0.1276 - val_accuracy: 0.9561\n",
            "Epoch 9/50\n",
            "517/517 [==============================] - ETA: 0s - loss: 0.1282 - accuracy: 0.9598"
          ]
        },
        {
          "output_type": "stream",
          "name": "stderr",
          "text": [
            "WARNING:absl:Found untraced functions such as _jit_compiled_convolution_op, _jit_compiled_convolution_op, _jit_compiled_convolution_op while saving (showing 3 of 3). These functions will not be directly callable after loading.\n"
          ]
        },
        {
          "output_type": "stream",
          "name": "stdout",
          "text": [
            "\b\b\b\b\b\b\b\b\b\b\b\b\b\b\b\b\b\b\b\b\b\b\b\b\b\b\b\b\b\b\b\b\b\b\b\b\b\b\b\b\b\b\b\b\b\b\b\b\b\b\b\b\b\b\b\b\b\b\b\b\b\b\b\b\b\b\b\b\b\b\b\b\b\b\b\b\b\b\b\b\b\b\b\b\r517/517 [==============================] - 309s 598ms/step - loss: 0.1282 - accuracy: 0.9598 - val_loss: 0.1300 - val_accuracy: 0.9552\n",
            "Epoch 10/50\n",
            "517/517 [==============================] - ETA: 0s - loss: 0.1273 - accuracy: 0.9600"
          ]
        },
        {
          "output_type": "stream",
          "name": "stderr",
          "text": [
            "WARNING:absl:Found untraced functions such as _jit_compiled_convolution_op, _jit_compiled_convolution_op, _jit_compiled_convolution_op while saving (showing 3 of 3). These functions will not be directly callable after loading.\n"
          ]
        },
        {
          "output_type": "stream",
          "name": "stdout",
          "text": [
            "\b\b\b\b\b\b\b\b\b\b\b\b\b\b\b\b\b\b\b\b\b\b\b\b\b\b\b\b\b\b\b\b\b\b\b\b\b\b\b\b\b\b\b\b\b\b\b\b\b\b\b\b\b\b\b\b\b\b\b\b\b\b\b\b\b\b\b\b\b\b\b\b\b\b\b\b\b\b\b\b\b\b\b\b\r517/517 [==============================] - 309s 598ms/step - loss: 0.1273 - accuracy: 0.9600 - val_loss: 0.1265 - val_accuracy: 0.9554\n",
            "Epoch 11/50\n",
            "517/517 [==============================] - ETA: 0s - loss: 0.1237 - accuracy: 0.9599"
          ]
        },
        {
          "output_type": "stream",
          "name": "stderr",
          "text": [
            "WARNING:absl:Found untraced functions such as _jit_compiled_convolution_op, _jit_compiled_convolution_op, _jit_compiled_convolution_op while saving (showing 3 of 3). These functions will not be directly callable after loading.\n"
          ]
        },
        {
          "output_type": "stream",
          "name": "stdout",
          "text": [
            "\b\b\b\b\b\b\b\b\b\b\b\b\b\b\b\b\b\b\b\b\b\b\b\b\b\b\b\b\b\b\b\b\b\b\b\b\b\b\b\b\b\b\b\b\b\b\b\b\b\b\b\b\b\b\b\b\b\b\b\b\b\b\b\b\b\b\b\b\b\b\b\b\b\b\b\b\b\b\b\b\b\b\b\b\r517/517 [==============================] - 309s 598ms/step - loss: 0.1237 - accuracy: 0.9599 - val_loss: 0.1252 - val_accuracy: 0.9561\n",
            "Epoch 12/50\n",
            "517/517 [==============================] - ETA: 0s - loss: 0.1224 - accuracy: 0.9595"
          ]
        },
        {
          "output_type": "stream",
          "name": "stderr",
          "text": [
            "WARNING:absl:Found untraced functions such as _jit_compiled_convolution_op, _jit_compiled_convolution_op, _jit_compiled_convolution_op while saving (showing 3 of 3). These functions will not be directly callable after loading.\n"
          ]
        },
        {
          "output_type": "stream",
          "name": "stdout",
          "text": [
            "\b\b\b\b\b\b\b\b\b\b\b\b\b\b\b\b\b\b\b\b\b\b\b\b\b\b\b\b\b\b\b\b\b\b\b\b\b\b\b\b\b\b\b\b\b\b\b\b\b\b\b\b\b\b\b\b\b\b\b\b\b\b\b\b\b\b\b\b\b\b\b\b\b\b\b\b\b\b\b\b\b\b\b\b\r517/517 [==============================] - 308s 597ms/step - loss: 0.1224 - accuracy: 0.9595 - val_loss: 0.1273 - val_accuracy: 0.9545\n",
            "Epoch 13/50\n",
            "517/517 [==============================] - ETA: 0s - loss: 0.1190 - accuracy: 0.9609Restoring model weights from the end of the best epoch: 8.\n"
          ]
        },
        {
          "output_type": "stream",
          "name": "stderr",
          "text": [
            "WARNING:absl:Found untraced functions such as _jit_compiled_convolution_op, _jit_compiled_convolution_op, _jit_compiled_convolution_op while saving (showing 3 of 3). These functions will not be directly callable after loading.\n"
          ]
        },
        {
          "output_type": "stream",
          "name": "stdout",
          "text": [
            "\b\b\b\b\b\b\b\b\b\b\b\b\b\b\b\b\b\b\b\b\b\b\b\b\b\b\b\b\b\b\b\b\b\b\b\b\b\b\b\b\b\b\b\b\b\b\b\b\b\b\b\b\b\b\b\b\b\b\b\b\b\b\b\b\b\b\b\b\b\b\b\b\b\b\b\b\b\b\b\b\b\b\b\b\r517/517 [==============================] - 308s 597ms/step - loss: 0.1190 - accuracy: 0.9609 - val_loss: 0.1252 - val_accuracy: 0.9559\n",
            "Epoch 13: early stopping\n"
          ]
        }
      ]
    },
    {
      "cell_type": "code",
      "source": [
        "pd.DataFrame({'accuracy': history.history['accuracy'],\n",
        "              'val_accuracy': history.history['val_accuracy']}).plot.line();"
      ],
      "metadata": {
        "id": "Dygz8bdYKUGM",
        "colab": {
          "base_uri": "https://localhost:8080/",
          "height": 265
        },
        "outputId": "2d50a22f-27d2-4672-8c01-082bd9a7af7b"
      },
      "id": "Dygz8bdYKUGM",
      "execution_count": null,
      "outputs": [
        {
          "output_type": "display_data",
          "data": {
            "text/plain": [
              "<Figure size 432x288 with 1 Axes>"
            ],
            "image/png": "[encoded data removed]"
          },
          "metadata": {
            "needs_background": "light"
          }
        }
      ]
    },
    {
      "cell_type": "code",
      "source": [
        " max(history.history['val_accuracy'])"
      ],
      "metadata": {
        "colab": {
          "base_uri": "https://localhost:8080/"
        },
        "id": "-r852mCIhhFJ",
        "outputId": "a965838a-ba2a-443b-c830-2635c120e392"
      },
      "id": "-r852mCIhhFJ",
      "execution_count": null,
      "outputs": [
        {
          "output_type": "execute_result",
          "data": {
            "text/plain": [
              "0.9560878276824951"
            ]
          },
          "metadata": {},
          "execution_count": 27
        }
      ]
    }
  ],
  "metadata": {
    "kernelspec": {
      "display_name": "Python 3 (ipykernel)",
      "language": "python",
      "name": "python3"
    },
    "language_info": {
      "codemirror_mode": {
        "name": "ipython",
        "version": 3
      },
      "file_extension": ".py",
      "mimetype": "text/x-python",
      "name": "python",
      "nbconvert_exporter": "python",
      "pygments_lexer": "ipython3",
      "version": "3.10.9"
    },
    "colab": {
      "provenance": []
    },
    "accelerator": "GPU",
    "gpuClass": "standard"
  },
  "nbformat": 4,
  "nbformat_minor": 5
}