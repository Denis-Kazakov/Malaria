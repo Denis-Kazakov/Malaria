{
  "cells": [
    {
      "cell_type": "markdown",
      "source": [
        "# Model with residual connections\n",
        "Training with optimized hyperparameters and prediction on the test set\n",
        "---\n",
        "\n"
      ],
      "metadata": {
        "id": "idmr1W3q5ahU"
      },
      "id": "idmr1W3q5ahU"
    },
    {
      "cell_type": "code",
      "execution_count": 8,
      "id": "1f431690",
      "metadata": {
        "scrolled": true,
        "id": "1f431690"
      },
      "outputs": [],
      "source": [
        "import tensorflow as tf\n",
        "from tensorflow import keras\n",
        "import tensorflow_datasets as tfds\n",
        "import pandas as pd"
      ]
    },
    {
      "cell_type": "code",
      "execution_count": 9,
      "id": "35511d2e",
      "metadata": {
        "colab": {
          "base_uri": "https://localhost:8080/"
        },
        "id": "35511d2e",
        "outputId": "69066e74-76d3-45f0-b01e-fa54b4b873df"
      },
      "outputs": [
        {
          "output_type": "stream",
          "name": "stdout",
          "text": [
            "Drive already mounted at /content/gdrive; to attempt to forcibly remount, call drive.mount(\"/content/gdrive\", force_remount=True).\n"
          ]
        }
      ],
      "source": [
        "from google.colab import drive\n",
        "drive.mount('/content/gdrive')"
      ]
    },
    {
      "cell_type": "markdown",
      "id": "9e4d7998",
      "metadata": {
        "id": "9e4d7998"
      },
      "source": [
        "Loading train, validation and test sets"
      ]
    },
    {
      "cell_type": "code",
      "execution_count": 10,
      "metadata": {
        "id": "4R0gNgH6HPRL"
      },
      "outputs": [],
      "source": [
        "ds = tfds.load('malaria', \n",
        "               split=('train[:80%]', 'train[80%:]'), \n",
        "               shuffle_files=False,\n",
        "              data_dir='/content/gdrive/MyDrive/datasets/Malaria',\n",
        "               batch_size=32,\n",
        "              download=True,\n",
        "              as_supervised=True,\n",
        "              with_info=False)"
      ],
      "id": "4R0gNgH6HPRL"
    },
    {
      "cell_type": "markdown",
      "source": [
        "# Model building"
      ],
      "metadata": {
        "id": "ep3vZn0KcBJp"
      },
      "id": "ep3vZn0KcBJp"
    },
    {
      "cell_type": "code",
      "execution_count": 11,
      "metadata": {
        "id": "L4VUYwMSDWYf"
      },
      "outputs": [],
      "source": [
        "def build_model(init_filters, kernel_size, num_resid):\n",
        "    '''I keep the number of filters the same in all layers in this version'''\n",
        "    inputs = keras.Input(shape=(None, None, 3))\n",
        "    x = keras.layers.Rescaling(scale=1.0 / 255)(inputs)\n",
        "    x = keras.layers.Conv2D(\n",
        "      filters=init_filters,\n",
        "      kernel_size=kernel_size,\n",
        "      strides=(1, 1),\n",
        "      padding=\"same\",\n",
        "      activation='relu')(x)\n",
        "    x = keras.layers.MaxPooling2D(\n",
        "        pool_size=(2, 2), \n",
        "        strides=None, \n",
        "        padding=\"same\")(x)\n",
        "    prev_block_output = x\n",
        "    for i in range(1, num_resid + 1):\n",
        "        # i is the number of blocks with residual connections\n",
        "      x = keras.layers.Conv2D(\n",
        "          filters=init_filters,\n",
        "          kernel_size=kernel_size,\n",
        "          strides=(1, 1),\n",
        "          padding=\"same\",\n",
        "          activation='relu')(x)\n",
        "      x = keras.layers.Conv2D(\n",
        "          filters=init_filters,\n",
        "          kernel_size=kernel_size,\n",
        "          strides=(1, 1),\n",
        "          padding=\"same\",\n",
        "          activation='relu')(x)\n",
        "      x = keras.layers.add([x, prev_block_output])\n",
        "      prev_block_output = x\n",
        "    x = keras.layers.Conv2D(\n",
        "        filters=init_filters,\n",
        "        kernel_size=kernel_size,\n",
        "        strides=(1, 1),\n",
        "        padding=\"same\",\n",
        "        activation='relu')(prev_block_output)\n",
        "    x = keras.layers.GlobalMaxPooling2D()(x)\n",
        "    x = keras.layers.Flatten()(x)\n",
        "    x = keras.layers.Dense(units=init_filters,\n",
        "                            activation=\"relu\",\n",
        "                          kernel_regularizer=None)(x)\n",
        "    x = keras.layers.Dropout(0.2)(x)\n",
        "    outputs = keras.layers.Dense(1, activation=\"sigmoid\")(x)\n",
        "    model = keras.Model(inputs=inputs, outputs=outputs)\n",
        "    model.compile(optimizer='Adam',\n",
        "         loss='binary_crossentropy',\n",
        "         metrics=['accuracy'])    \n",
        "    return model"
      ],
      "id": "L4VUYwMSDWYf"
    },
    {
      "cell_type": "code",
      "source": [
        "model = build_model(64, 4, 6)"
      ],
      "metadata": {
        "id": "quESPUJr6Pnj"
      },
      "execution_count": 12,
      "outputs": [],
      "id": "quESPUJr6Pnj"
    },
    {
      "cell_type": "code",
      "source": [
        "history = model.fit(\n",
        "    ds[0],\n",
        "    epochs=20,\n",
        "    verbose=\"auto\",\n",
        ")"
      ],
      "metadata": {
        "colab": {
          "base_uri": "https://localhost:8080/"
        },
        "outputId": "a0dfa3af-5567-4a32-d1ed-799d4a3a441d",
        "id": "SAMRXkLp6Pnl"
      },
      "execution_count": 13,
      "outputs": [
        {
          "output_type": "stream",
          "name": "stdout",
          "text": [
            "Epoch 1/20\n",
            "689/689 [==============================] - 265s 383ms/step - loss: 0.3669 - accuracy: 0.7981\n",
            "Epoch 2/20\n",
            "689/689 [==============================] - 262s 380ms/step - loss: 0.1430 - accuracy: 0.9559\n",
            "Epoch 3/20\n",
            "689/689 [==============================] - 261s 379ms/step - loss: 0.1390 - accuracy: 0.9560\n",
            "Epoch 4/20\n",
            "689/689 [==============================] - 261s 378ms/step - loss: 0.1329 - accuracy: 0.9578\n",
            "Epoch 5/20\n",
            "689/689 [==============================] - 260s 377ms/step - loss: 0.1302 - accuracy: 0.9587\n",
            "Epoch 6/20\n",
            "689/689 [==============================] - 260s 377ms/step - loss: 0.1281 - accuracy: 0.9599\n",
            "Epoch 7/20\n",
            "689/689 [==============================] - 259s 376ms/step - loss: 0.1234 - accuracy: 0.9612\n",
            "Epoch 8/20\n",
            "689/689 [==============================] - 260s 377ms/step - loss: 0.1223 - accuracy: 0.9616\n",
            "Epoch 9/20\n",
            "689/689 [==============================] - 259s 376ms/step - loss: 0.1172 - accuracy: 0.9620\n",
            "Epoch 10/20\n",
            "689/689 [==============================] - 259s 376ms/step - loss: 0.1116 - accuracy: 0.9631\n",
            "Epoch 11/20\n",
            "689/689 [==============================] - 259s 376ms/step - loss: 0.1154 - accuracy: 0.9627\n",
            "Epoch 12/20\n",
            "689/689 [==============================] - 259s 376ms/step - loss: 0.1108 - accuracy: 0.9640\n",
            "Epoch 13/20\n",
            "689/689 [==============================] - 259s 375ms/step - loss: 0.1062 - accuracy: 0.9655\n",
            "Epoch 14/20\n",
            "689/689 [==============================] - 259s 376ms/step - loss: 0.1032 - accuracy: 0.9656\n",
            "Epoch 15/20\n",
            "689/689 [==============================] - 259s 376ms/step - loss: 0.0992 - accuracy: 0.9660\n",
            "Epoch 16/20\n",
            "689/689 [==============================] - 259s 376ms/step - loss: 0.0957 - accuracy: 0.9667\n",
            "Epoch 17/20\n",
            "689/689 [==============================] - 259s 376ms/step - loss: 0.0971 - accuracy: 0.9666\n",
            "Epoch 18/20\n",
            "689/689 [==============================] - 259s 376ms/step - loss: 0.0929 - accuracy: 0.9683\n",
            "Epoch 19/20\n",
            "689/689 [==============================] - 259s 375ms/step - loss: 0.0873 - accuracy: 0.9697\n",
            "Epoch 20/20\n",
            "689/689 [==============================] - 258s 375ms/step - loss: 0.0857 - accuracy: 0.9694\n"
          ]
        }
      ],
      "id": "SAMRXkLp6Pnl"
    },
    {
      "cell_type": "code",
      "source": [
        "model.evaluate(ds[1])"
      ],
      "metadata": {
        "id": "7HocGCgzDq7c",
        "colab": {
          "base_uri": "https://localhost:8080/"
        },
        "outputId": "2887585b-16ac-4c63-cb33-4cbf654917d4"
      },
      "id": "7HocGCgzDq7c",
      "execution_count": 14,
      "outputs": [
        {
          "output_type": "stream",
          "name": "stdout",
          "text": [
            "173/173 [==============================] - 32s 177ms/step - loss: 0.1436 - accuracy: 0.9566\n"
          ]
        },
        {
          "output_type": "execute_result",
          "data": {
            "text/plain": [
              "[0.14357568323612213, 0.9566400647163391]"
            ]
          },
          "metadata": {},
          "execution_count": 14
        }
      ]
    },
    {
      "cell_type": "markdown",
      "source": [
        "#Conclusion\n",
        "Modest improvement on the test set (0.2%)"
      ],
      "metadata": {
        "id": "O-aRbAoYtxdL"
      },
      "id": "O-aRbAoYtxdL"
    }
  ],
  "metadata": {
    "kernelspec": {
      "display_name": "Python 3 (ipykernel)",
      "language": "python",
      "name": "python3"
    },
    "language_info": {
      "codemirror_mode": {
        "name": "ipython",
        "version": 3
      },
      "file_extension": ".py",
      "mimetype": "text/x-python",
      "name": "python",
      "nbconvert_exporter": "python",
      "pygments_lexer": "ipython3",
      "version": "3.10.9"
    },
    "colab": {
      "provenance": [],
      "collapsed_sections": [
        "idmr1W3q5ahU",
        "O-aRbAoYtxdL"
      ]
    },
    "accelerator": "GPU",
    "gpuClass": "standard"
  },
  "nbformat": 4,
  "nbformat_minor": 5
}